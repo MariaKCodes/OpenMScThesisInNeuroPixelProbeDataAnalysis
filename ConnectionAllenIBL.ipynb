{
  "nbformat": 4,
  "nbformat_minor": 0,
  "metadata": {
    "colab": {
      "provenance": [],
      "authorship_tag": "ABX9TyN7B3r8PmSCGWvHcaX+eaRu",
      "include_colab_link": true
    },
    "kernelspec": {
      "name": "python3",
      "display_name": "Python 3"
    },
    "language_info": {
      "name": "python"
    }
  },
  "cells": [
    {
      "cell_type": "markdown",
      "metadata": {
        "id": "view-in-github",
        "colab_type": "text"
      },
      "source": [
        "<a href=\"https://colab.research.google.com/github/MariaKCodes/OpenMScThesisInNeuroPixelProbeDataAnalysis/blob/main/ConnectionAllenIBL.ipynb\" target=\"_parent\"><img src=\"https://colab.research.google.com/assets/colab-badge.svg\" alt=\"Open In Colab\"/></a>"
      ]
    },
    {
      "cell_type": "code",
      "execution_count": null,
      "metadata": {
        "id": "ysTS8ymo4iYV"
      },
      "outputs": [],
      "source": [
        "#https://github.com/AllenInstitute/mouse_connectivity_models/issues/49\n",
        "#https://mouse-connectivity-models.readthedocs.io/en/latest/modules/data_wrangling.html"
      ]
    },
    {
      "cell_type": "code",
      "source": [
        "!pip install allensdk"
      ],
      "metadata": {
        "colab": {
          "base_uri": "https://localhost:8080/",
          "height": 1000
        },
        "id": "d1Pd6J8c9Zv8",
        "outputId": "051a8145-0d2e-46ae-f117-7101c9e54cda"
      },
      "execution_count": 16,
      "outputs": [
        {
          "output_type": "stream",
          "name": "stdout",
          "text": [
            "Looking in indexes: https://pypi.org/simple, https://us-python.pkg.dev/colab-wheels/public/simple/\n",
            "Collecting allensdk\n",
            "  Downloading allensdk-2.13.6-py3-none-any.whl (1.9 MB)\n",
            "\u001b[K     |████████████████████████████████| 1.9 MB 28.4 MB/s \n",
            "\u001b[?25hCollecting argschema<4.0.0,>=3.0.1\n",
            "  Downloading argschema-3.0.4.tar.gz (25 kB)\n",
            "  Installing build dependencies ... \u001b[?25l\u001b[?25hdone\n",
            "  Getting requirements to build wheel ... \u001b[?25l\u001b[?25hdone\n",
            "    Preparing wheel metadata ... \u001b[?25l\u001b[?25hdone\n",
            "Collecting xarray<0.16.0\n",
            "  Downloading xarray-0.15.1-py3-none-any.whl (668 kB)\n",
            "\u001b[K     |████████████████████████████████| 668 kB 52.2 MB/s \n",
            "\u001b[?25hCollecting tables<3.7.0,>=3.6.0\n",
            "  Downloading tables-3.6.1-cp37-cp37m-manylinux1_x86_64.whl (4.3 MB)\n",
            "\u001b[K     |████████████████████████████████| 4.3 MB 50.6 MB/s \n",
            "\u001b[?25hCollecting scikit-image<0.17.0,>=0.14.0\n",
            "  Downloading scikit_image-0.16.2-cp37-cp37m-manylinux1_x86_64.whl (26.5 MB)\n",
            "\u001b[K     |████████████████████████████████| 26.5 MB 1.6 MB/s \n",
            "\u001b[?25hRequirement already satisfied: h5py in /usr/local/lib/python3.7/dist-packages (from allensdk) (3.1.0)\n",
            "Requirement already satisfied: pandas>=1.1.5 in /usr/local/lib/python3.7/dist-packages (from allensdk) (1.3.5)\n",
            "Requirement already satisfied: statsmodels<=0.13.0 in /usr/local/lib/python3.7/dist-packages (from allensdk) (0.12.2)\n",
            "Collecting pynrrd<1.0.0,>=0.2.1\n",
            "  Downloading pynrrd-0.4.3-py2.py3-none-any.whl (18 kB)\n",
            "Collecting jinja2>=3.0.0\n",
            "  Downloading Jinja2-3.1.2-py3-none-any.whl (133 kB)\n",
            "\u001b[K     |████████████████████████████████| 133 kB 58.3 MB/s \n",
            "\u001b[?25hCollecting simplejson<4.0.0,>=3.10.0\n",
            "  Downloading simplejson-3.17.6-cp37-cp37m-manylinux_2_5_x86_64.manylinux1_x86_64.manylinux_2_12_x86_64.manylinux2010_x86_64.whl (130 kB)\n",
            "\u001b[K     |████████████████████████████████| 130 kB 58.7 MB/s \n",
            "\u001b[?25hCollecting nest-asyncio\n",
            "  Downloading nest_asyncio-1.5.6-py3-none-any.whl (5.2 kB)\n",
            "Collecting ndx-events<=0.2.0\n",
            "  Downloading ndx_events-0.2.0-py2.py3-none-any.whl (13 kB)\n",
            "Requirement already satisfied: matplotlib<3.4.3,>=1.4.3 in /usr/local/lib/python3.7/dist-packages (from allensdk) (3.2.2)\n",
            "Collecting aiohttp==3.7.4\n",
            "  Downloading aiohttp-3.7.4-cp37-cp37m-manylinux2014_x86_64.whl (1.3 MB)\n",
            "\u001b[K     |████████████████████████████████| 1.3 MB 52.0 MB/s \n",
            "\u001b[?25hCollecting scikit-build<1.0.0\n",
            "  Downloading scikit_build-0.15.0-py2.py3-none-any.whl (77 kB)\n",
            "\u001b[K     |████████████████████████████████| 77 kB 6.7 MB/s \n",
            "\u001b[?25hCollecting requests-toolbelt<1.0.0\n",
            "  Downloading requests_toolbelt-0.10.0-py2.py3-none-any.whl (54 kB)\n",
            "\u001b[K     |████████████████████████████████| 54 kB 2.6 MB/s \n",
            "\u001b[?25hRequirement already satisfied: sqlalchemy in /usr/local/lib/python3.7/dist-packages (from allensdk) (1.4.41)\n",
            "Collecting boto3==1.17.21\n",
            "  Downloading boto3-1.17.21-py2.py3-none-any.whl (130 kB)\n",
            "\u001b[K     |████████████████████████████████| 130 kB 68.0 MB/s \n",
            "\u001b[?25hRequirement already satisfied: six<2.0.0,>=1.9.0 in /usr/local/lib/python3.7/dist-packages (from allensdk) (1.15.0)\n",
            "Requirement already satisfied: numpy in /usr/local/lib/python3.7/dist-packages (from allensdk) (1.21.6)\n",
            "Collecting pynwb\n",
            "  Downloading pynwb-2.1.0-py2.py3-none-any.whl (118 kB)\n",
            "\u001b[K     |████████████████████████████████| 118 kB 69.5 MB/s \n",
            "\u001b[?25hRequirement already satisfied: tqdm>=4.27 in /usr/local/lib/python3.7/dist-packages (from allensdk) (4.64.1)\n",
            "Requirement already satisfied: future<1.0.0,>=0.14.3 in /usr/local/lib/python3.7/dist-packages (from allensdk) (0.16.0)\n",
            "Requirement already satisfied: seaborn<1.0.0 in /usr/local/lib/python3.7/dist-packages (from allensdk) (0.11.2)\n",
            "Requirement already satisfied: scipy<2.0.0,>=1.4.0 in /usr/local/lib/python3.7/dist-packages (from allensdk) (1.7.3)\n",
            "Requirement already satisfied: cachetools<5.0.0,>=4.2.1 in /usr/local/lib/python3.7/dist-packages (from allensdk) (4.2.4)\n",
            "Collecting glymur==0.8.19\n",
            "  Downloading Glymur-0.8.19.tar.gz (3.4 MB)\n",
            "\u001b[K     |████████████████████████████████| 3.4 MB 66.7 MB/s \n",
            "\u001b[?25hCollecting simpleitk<3.0.0,>=2.0.2\n",
            "  Downloading SimpleITK-2.2.0-cp37-cp37m-manylinux_2_17_x86_64.manylinux2014_x86_64.whl (52.8 MB)\n",
            "\u001b[K     |████████████████████████████████| 52.8 MB 194 kB/s \n",
            "\u001b[?25hCollecting hdmf>=2.5.8\n",
            "  Downloading hdmf-3.4.6-py3-none-any.whl (187 kB)\n",
            "\u001b[K     |████████████████████████████████| 187 kB 69.0 MB/s \n",
            "\u001b[?25hCollecting psycopg2-binary<3.0.0,>=2.7\n",
            "  Downloading psycopg2_binary-2.9.4-cp37-cp37m-manylinux_2_17_x86_64.manylinux2014_x86_64.whl (3.0 MB)\n",
            "\u001b[K     |████████████████████████████████| 3.0 MB 41.7 MB/s \n",
            "\u001b[?25hCollecting semver\n",
            "  Downloading semver-2.13.0-py2.py3-none-any.whl (12 kB)\n",
            "Requirement already satisfied: requests<3.0.0 in /usr/local/lib/python3.7/dist-packages (from allensdk) (2.23.0)\n",
            "Requirement already satisfied: chardet<4.0,>=2.0 in /usr/local/lib/python3.7/dist-packages (from aiohttp==3.7.4->allensdk) (3.0.4)\n",
            "Requirement already satisfied: attrs>=17.3.0 in /usr/local/lib/python3.7/dist-packages (from aiohttp==3.7.4->allensdk) (22.1.0)\n",
            "Requirement already satisfied: yarl<2.0,>=1.0 in /usr/local/lib/python3.7/dist-packages (from aiohttp==3.7.4->allensdk) (1.8.1)\n",
            "Requirement already satisfied: typing-extensions>=3.6.5 in /usr/local/lib/python3.7/dist-packages (from aiohttp==3.7.4->allensdk) (4.1.1)\n",
            "Collecting async-timeout<4.0,>=3.0\n",
            "  Downloading async_timeout-3.0.1-py3-none-any.whl (8.2 kB)\n",
            "Requirement already satisfied: multidict<7.0,>=4.5 in /usr/local/lib/python3.7/dist-packages (from aiohttp==3.7.4->allensdk) (6.0.2)\n",
            "Collecting botocore<1.21.0,>=1.20.21\n",
            "  Downloading botocore-1.20.112-py2.py3-none-any.whl (7.7 MB)\n",
            "\u001b[K     |████████████████████████████████| 7.7 MB 43.1 MB/s \n",
            "\u001b[?25hCollecting s3transfer<0.4.0,>=0.3.0\n",
            "  Downloading s3transfer-0.3.7-py2.py3-none-any.whl (73 kB)\n",
            "\u001b[K     |████████████████████████████████| 73 kB 2.2 MB/s \n",
            "\u001b[?25hCollecting jmespath<1.0.0,>=0.7.1\n",
            "  Downloading jmespath-0.10.0-py2.py3-none-any.whl (24 kB)\n",
            "Requirement already satisfied: setuptools in /usr/local/lib/python3.7/dist-packages (from glymur==0.8.19->allensdk) (57.4.0)\n",
            "Requirement already satisfied: pyyaml in /usr/local/lib/python3.7/dist-packages (from argschema<4.0.0,>=3.0.1->allensdk) (6.0)\n",
            "Requirement already satisfied: marshmallow<4.0,>=3.0.0 in /usr/local/lib/python3.7/dist-packages (from argschema<4.0.0,>=3.0.1->allensdk) (3.18.0)\n",
            "Collecting urllib3<1.27,>=1.25.4\n",
            "  Downloading urllib3-1.26.12-py2.py3-none-any.whl (140 kB)\n",
            "\u001b[K     |████████████████████████████████| 140 kB 54.2 MB/s \n",
            "\u001b[?25hRequirement already satisfied: python-dateutil<3.0.0,>=2.1 in /usr/local/lib/python3.7/dist-packages (from botocore<1.21.0,>=1.20.21->boto3==1.17.21->allensdk) (2.8.2)\n",
            "Requirement already satisfied: jsonschema<5,>=2.6.0 in /usr/local/lib/python3.7/dist-packages (from hdmf>=2.5.8->allensdk) (4.3.3)\n",
            "Collecting ruamel.yaml<1,>=0.16\n",
            "  Downloading ruamel.yaml-0.17.21-py3-none-any.whl (109 kB)\n",
            "\u001b[K     |████████████████████████████████| 109 kB 19.0 MB/s \n",
            "\u001b[?25hRequirement already satisfied: cached-property in /usr/local/lib/python3.7/dist-packages (from h5py->allensdk) (1.5.2)\n",
            "Requirement already satisfied: MarkupSafe>=2.0 in /usr/local/lib/python3.7/dist-packages (from jinja2>=3.0.0->allensdk) (2.0.1)\n",
            "Requirement already satisfied: importlib-resources>=1.4.0 in /usr/local/lib/python3.7/dist-packages (from jsonschema<5,>=2.6.0->hdmf>=2.5.8->allensdk) (5.10.0)\n",
            "Requirement already satisfied: pyrsistent!=0.17.0,!=0.17.1,!=0.17.2,>=0.14.0 in /usr/local/lib/python3.7/dist-packages (from jsonschema<5,>=2.6.0->hdmf>=2.5.8->allensdk) (0.18.1)\n",
            "Requirement already satisfied: importlib-metadata in /usr/local/lib/python3.7/dist-packages (from jsonschema<5,>=2.6.0->hdmf>=2.5.8->allensdk) (4.13.0)\n",
            "Requirement already satisfied: zipp>=3.1.0 in /usr/local/lib/python3.7/dist-packages (from importlib-resources>=1.4.0->jsonschema<5,>=2.6.0->hdmf>=2.5.8->allensdk) (3.9.0)\n",
            "Requirement already satisfied: packaging>=17.0 in /usr/local/lib/python3.7/dist-packages (from marshmallow<4.0,>=3.0.0->argschema<4.0.0,>=3.0.1->allensdk) (21.3)\n",
            "Requirement already satisfied: cycler>=0.10 in /usr/local/lib/python3.7/dist-packages (from matplotlib<3.4.3,>=1.4.3->allensdk) (0.11.0)\n",
            "Requirement already satisfied: kiwisolver>=1.0.1 in /usr/local/lib/python3.7/dist-packages (from matplotlib<3.4.3,>=1.4.3->allensdk) (1.4.4)\n",
            "Requirement already satisfied: pyparsing!=2.0.4,!=2.1.2,!=2.1.6,>=2.0.1 in /usr/local/lib/python3.7/dist-packages (from matplotlib<3.4.3,>=1.4.3->allensdk) (3.0.9)\n",
            "Requirement already satisfied: pytz>=2017.3 in /usr/local/lib/python3.7/dist-packages (from pandas>=1.1.5->allensdk) (2022.4)\n",
            "Requirement already satisfied: idna<3,>=2.5 in /usr/local/lib/python3.7/dist-packages (from requests<3.0.0->allensdk) (2.10)\n",
            "Requirement already satisfied: certifi>=2017.4.17 in /usr/local/lib/python3.7/dist-packages (from requests<3.0.0->allensdk) (2022.9.24)\n",
            "Collecting urllib3<1.27,>=1.25.4\n",
            "  Downloading urllib3-1.25.11-py2.py3-none-any.whl (127 kB)\n",
            "\u001b[K     |████████████████████████████████| 127 kB 53.4 MB/s \n",
            "\u001b[?25hCollecting ruamel.yaml.clib>=0.2.6\n",
            "  Downloading ruamel.yaml.clib-0.2.6-cp37-cp37m-manylinux1_x86_64.whl (546 kB)\n",
            "\u001b[K     |████████████████████████████████| 546 kB 55.8 MB/s \n",
            "\u001b[?25hCollecting distro\n",
            "  Downloading distro-1.8.0-py3-none-any.whl (20 kB)\n",
            "Requirement already satisfied: wheel>=0.29.0 in /usr/local/lib/python3.7/dist-packages (from scikit-build<1.0.0->allensdk) (0.37.1)\n",
            "Requirement already satisfied: networkx>=2.0 in /usr/local/lib/python3.7/dist-packages (from scikit-image<0.17.0,>=0.14.0->allensdk) (2.6.3)\n",
            "Requirement already satisfied: pillow>=4.3.0 in /usr/local/lib/python3.7/dist-packages (from scikit-image<0.17.0,>=0.14.0->allensdk) (7.1.2)\n",
            "Requirement already satisfied: PyWavelets>=0.4.0 in /usr/local/lib/python3.7/dist-packages (from scikit-image<0.17.0,>=0.14.0->allensdk) (1.3.0)\n",
            "Requirement already satisfied: imageio>=2.3.0 in /usr/local/lib/python3.7/dist-packages (from scikit-image<0.17.0,>=0.14.0->allensdk) (2.9.0)\n",
            "Requirement already satisfied: patsy>=0.5 in /usr/local/lib/python3.7/dist-packages (from statsmodels<=0.13.0->allensdk) (0.5.3)\n",
            "Requirement already satisfied: numexpr>=2.6.2 in /usr/local/lib/python3.7/dist-packages (from tables<3.7.0,>=3.6.0->allensdk) (2.8.3)\n",
            "Requirement already satisfied: greenlet!=0.4.17 in /usr/local/lib/python3.7/dist-packages (from sqlalchemy->allensdk) (1.1.3.post0)\n",
            "Building wheels for collected packages: glymur, argschema\n",
            "  Building wheel for glymur (setup.py) ... \u001b[?25l\u001b[?25hdone\n",
            "  Created wheel for glymur: filename=Glymur-0.8.19-py3-none-any.whl size=2722014 sha256=a43cb4e10f45b13d4b7609684527d0ce9054e10137cb8ec8adaa97d127731edc\n",
            "  Stored in directory: /root/.cache/pip/wheels/36/bc/bd/1786279b44db4cbd6ded18090d02978fc31e78e3e516551bb4\n",
            "  Building wheel for argschema (PEP 517) ... \u001b[?25l\u001b[?25hdone\n",
            "  Created wheel for argschema: filename=argschema-3.0.4-py2.py3-none-any.whl size=19106 sha256=4c488ef27f603bd72f2122a73cc62974e565394428bcb96481e733f5d7a6e176\n",
            "  Stored in directory: /root/.cache/pip/wheels/81/a6/cf/a6a56e0716df5e18c5473561619e84c5c812938f2328ec6bd6\n",
            "Successfully built glymur argschema\n",
            "Installing collected packages: ruamel.yaml.clib, urllib3, ruamel.yaml, jmespath, hdmf, botocore, s3transfer, pynwb, distro, async-timeout, xarray, tables, simplejson, simpleitk, semver, scikit-image, scikit-build, requests-toolbelt, pynrrd, psycopg2-binary, nest-asyncio, ndx-events, jinja2, glymur, boto3, argschema, aiohttp, allensdk\n",
            "  Attempting uninstall: urllib3\n",
            "    Found existing installation: urllib3 1.24.3\n",
            "    Uninstalling urllib3-1.24.3:\n",
            "      Successfully uninstalled urllib3-1.24.3\n",
            "  Attempting uninstall: async-timeout\n",
            "    Found existing installation: async-timeout 4.0.2\n",
            "    Uninstalling async-timeout-4.0.2:\n",
            "      Successfully uninstalled async-timeout-4.0.2\n",
            "  Attempting uninstall: xarray\n",
            "    Found existing installation: xarray 0.20.2\n",
            "    Uninstalling xarray-0.20.2:\n",
            "      Successfully uninstalled xarray-0.20.2\n",
            "  Attempting uninstall: tables\n",
            "    Found existing installation: tables 3.7.0\n",
            "    Uninstalling tables-3.7.0:\n",
            "      Successfully uninstalled tables-3.7.0\n",
            "  Attempting uninstall: scikit-image\n",
            "    Found existing installation: scikit-image 0.18.3\n",
            "    Uninstalling scikit-image-0.18.3:\n",
            "      Successfully uninstalled scikit-image-0.18.3\n",
            "  Attempting uninstall: jinja2\n",
            "    Found existing installation: Jinja2 2.11.3\n",
            "    Uninstalling Jinja2-2.11.3:\n",
            "      Successfully uninstalled Jinja2-2.11.3\n",
            "  Attempting uninstall: aiohttp\n",
            "    Found existing installation: aiohttp 3.8.3\n",
            "    Uninstalling aiohttp-3.8.3:\n",
            "      Successfully uninstalled aiohttp-3.8.3\n",
            "\u001b[31mERROR: pip's dependency resolver does not currently take into account all the packages that are installed. This behaviour is the source of the following dependency conflicts.\n",
            "xarray-einstats 0.2.2 requires xarray>=0.20, but you have xarray 0.15.1 which is incompatible.\n",
            "flask 1.1.4 requires Jinja2<3.0,>=2.10.1, but you have jinja2 3.1.2 which is incompatible.\n",
            "arviz 0.12.1 requires xarray>=0.16.1, but you have xarray 0.15.1 which is incompatible.\u001b[0m\n",
            "Successfully installed aiohttp-3.7.4 allensdk-2.13.6 argschema-3.0.4 async-timeout-3.0.1 boto3-1.17.21 botocore-1.20.112 distro-1.8.0 glymur-0.8.19 hdmf-3.4.6 jinja2-3.1.2 jmespath-0.10.0 ndx-events-0.2.0 nest-asyncio-1.5.6 psycopg2-binary-2.9.4 pynrrd-0.4.3 pynwb-2.1.0 requests-toolbelt-0.10.0 ruamel.yaml-0.17.21 ruamel.yaml.clib-0.2.6 s3transfer-0.3.7 scikit-build-0.15.0 scikit-image-0.16.2 semver-2.13.0 simpleitk-2.2.0 simplejson-3.17.6 tables-3.6.1 urllib3-1.25.11 xarray-0.15.1\n"
          ]
        },
        {
          "output_type": "display_data",
          "data": {
            "application/vnd.colab-display-data+json": {
              "pip_warning": {
                "packages": [
                  "urllib3"
                ]
              }
            }
          },
          "metadata": {}
        }
      ]
    },
    {
      "cell_type": "code",
      "source": [
        "!git clone https://github.com/AllenInstitute/mouse_connectivity_models.git\n",
        "%cd mouse_connectivity_models\n",
        "!pip install ."
      ],
      "metadata": {
        "colab": {
          "base_uri": "https://localhost:8080/"
        },
        "id": "MV_HGP9n6Vvx",
        "outputId": "58c29f40-1e81-486f-c3e3-196031f10c2b"
      },
      "execution_count": 13,
      "outputs": [
        {
          "output_type": "stream",
          "name": "stdout",
          "text": [
            "Cloning into 'mouse_connectivity_models'...\n",
            "remote: Enumerating objects: 5788, done.\u001b[K\n",
            "remote: Counting objects: 100% (516/516), done.\u001b[K\n",
            "remote: Compressing objects: 100% (215/215), done.\u001b[K\n",
            "remote: Total 5788 (delta 350), reused 434 (delta 298), pack-reused 5272\u001b[K\n",
            "Receiving objects: 100% (5788/5788), 514.99 MiB | 23.42 MiB/s, done.\n",
            "Resolving deltas: 100% (3345/3345), done.\n",
            "/content/mouse_connectivity_models/mouse_connectivity_models/mouse_connectivity_models\n",
            "Looking in indexes: https://pypi.org/simple, https://us-python.pkg.dev/colab-wheels/public/simple/\n",
            "Processing /content/mouse_connectivity_models/mouse_connectivity_models/mouse_connectivity_models\n",
            "\u001b[33m  DEPRECATION: A future pip version will change local packages to be built in-place without first copying to a temporary directory. We recommend you use --use-feature=in-tree-build to test your packages with this new behavior before it becomes the default.\n",
            "   pip 21.3 will remove support for this functionality. You can find discussion regarding this at https://github.com/pypa/pip/issues/7555.\u001b[0m\n",
            "\u001b[33mWARNING: Discarding file:///content/mouse_connectivity_models/mouse_connectivity_models/mouse_connectivity_models. Command errored out with exit status 1: python setup.py egg_info Check the logs for full command output.\u001b[0m\n",
            "\u001b[31mERROR: Command errored out with exit status 1: python setup.py egg_info Check the logs for full command output.\u001b[0m\n"
          ]
        }
      ]
    },
    {
      "cell_type": "code",
      "source": [
        "!pip install ONE-api"
      ],
      "metadata": {
        "colab": {
          "base_uri": "https://localhost:8080/",
          "height": 1000
        },
        "id": "Wc8v5GHkEOcg",
        "outputId": "b6b5e7b0-9f35-41ea-c0f2-d95912904561"
      },
      "execution_count": 20,
      "outputs": [
        {
          "output_type": "stream",
          "name": "stdout",
          "text": [
            "Looking in indexes: https://pypi.org/simple, https://us-python.pkg.dev/colab-wheels/public/simple/\n",
            "Collecting ONE-api\n",
            "  Downloading ONE_api-1.16.1-py3-none-any.whl (96 kB)\n",
            "\u001b[K     |████████████████████████████████| 96 kB 4.5 MB/s \n",
            "\u001b[?25hCollecting iblutil>=1.1.0\n",
            "  Downloading iblutil-1.3.1-py3-none-any.whl (12 kB)\n",
            "Requirement already satisfied: boto3 in /usr/local/lib/python3.7/dist-packages (from ONE-api) (1.17.21)\n",
            "Collecting flake8>=3.7.8\n",
            "  Downloading flake8-5.0.4-py2.py3-none-any.whl (61 kB)\n",
            "\u001b[K     |████████████████████████████████| 61 kB 470 kB/s \n",
            "\u001b[?25hRequirement already satisfied: pyyaml in /usr/local/lib/python3.7/dist-packages (from ONE-api) (6.0)\n",
            "Requirement already satisfied: requests>=2.22.0 in /usr/local/lib/python3.7/dist-packages (from ONE-api) (2.23.0)\n",
            "Requirement already satisfied: packaging in /usr/local/lib/python3.7/dist-packages (from ONE-api) (21.3)\n",
            "Requirement already satisfied: pandas>=1.2.4 in /usr/local/lib/python3.7/dist-packages (from ONE-api) (1.3.5)\n",
            "Requirement already satisfied: tqdm>=4.32.1 in /usr/local/lib/python3.7/dist-packages (from ONE-api) (4.64.1)\n",
            "Requirement already satisfied: numpy>=1.18 in /usr/local/lib/python3.7/dist-packages (from ONE-api) (1.21.6)\n",
            "Collecting pycodestyle<2.10.0,>=2.9.0\n",
            "  Downloading pycodestyle-2.9.1-py2.py3-none-any.whl (41 kB)\n",
            "\u001b[K     |████████████████████████████████| 41 kB 288 kB/s \n",
            "\u001b[?25hCollecting mccabe<0.8.0,>=0.7.0\n",
            "  Downloading mccabe-0.7.0-py2.py3-none-any.whl (7.3 kB)\n",
            "Collecting pyflakes<2.6.0,>=2.5.0\n",
            "  Downloading pyflakes-2.5.0-py2.py3-none-any.whl (66 kB)\n",
            "\u001b[K     |████████████████████████████████| 66 kB 3.1 MB/s \n",
            "\u001b[?25hCollecting importlib-metadata<4.3,>=1.1.0\n",
            "  Downloading importlib_metadata-4.2.0-py3-none-any.whl (16 kB)\n",
            "Requirement already satisfied: pyarrow in /usr/local/lib/python3.7/dist-packages (from iblutil>=1.1.0->ONE-api) (6.0.1)\n",
            "Collecting colorlog>=6.0.0\n",
            "  Downloading colorlog-6.7.0-py2.py3-none-any.whl (11 kB)\n",
            "Requirement already satisfied: numba in /usr/local/lib/python3.7/dist-packages (from iblutil>=1.1.0->ONE-api) (0.56.3)\n",
            "Requirement already satisfied: zipp>=0.5 in /usr/local/lib/python3.7/dist-packages (from importlib-metadata<4.3,>=1.1.0->flake8>=3.7.8->ONE-api) (3.9.0)\n",
            "Requirement already satisfied: typing-extensions>=3.6.4 in /usr/local/lib/python3.7/dist-packages (from importlib-metadata<4.3,>=1.1.0->flake8>=3.7.8->ONE-api) (4.1.1)\n",
            "Requirement already satisfied: python-dateutil>=2.7.3 in /usr/local/lib/python3.7/dist-packages (from pandas>=1.2.4->ONE-api) (2.8.2)\n",
            "Requirement already satisfied: pytz>=2017.3 in /usr/local/lib/python3.7/dist-packages (from pandas>=1.2.4->ONE-api) (2022.4)\n",
            "Requirement already satisfied: six>=1.5 in /usr/local/lib/python3.7/dist-packages (from python-dateutil>=2.7.3->pandas>=1.2.4->ONE-api) (1.15.0)\n",
            "Requirement already satisfied: chardet<4,>=3.0.2 in /usr/local/lib/python3.7/dist-packages (from requests>=2.22.0->ONE-api) (3.0.4)\n",
            "Requirement already satisfied: idna<3,>=2.5 in /usr/local/lib/python3.7/dist-packages (from requests>=2.22.0->ONE-api) (2.10)\n",
            "Requirement already satisfied: urllib3!=1.25.0,!=1.25.1,<1.26,>=1.21.1 in /usr/local/lib/python3.7/dist-packages (from requests>=2.22.0->ONE-api) (1.25.11)\n",
            "Requirement already satisfied: certifi>=2017.4.17 in /usr/local/lib/python3.7/dist-packages (from requests>=2.22.0->ONE-api) (2022.9.24)\n",
            "Requirement already satisfied: s3transfer<0.4.0,>=0.3.0 in /usr/local/lib/python3.7/dist-packages (from boto3->ONE-api) (0.3.7)\n",
            "Requirement already satisfied: botocore<1.21.0,>=1.20.21 in /usr/local/lib/python3.7/dist-packages (from boto3->ONE-api) (1.20.112)\n",
            "Requirement already satisfied: jmespath<1.0.0,>=0.7.1 in /usr/local/lib/python3.7/dist-packages (from boto3->ONE-api) (0.10.0)\n",
            "Requirement already satisfied: llvmlite<0.40,>=0.39.0dev0 in /usr/local/lib/python3.7/dist-packages (from numba->iblutil>=1.1.0->ONE-api) (0.39.1)\n",
            "Requirement already satisfied: setuptools in /usr/local/lib/python3.7/dist-packages (from numba->iblutil>=1.1.0->ONE-api) (57.4.0)\n",
            "Requirement already satisfied: pyparsing!=3.0.5,>=2.0.2 in /usr/local/lib/python3.7/dist-packages (from packaging->ONE-api) (3.0.9)\n",
            "Installing collected packages: pyflakes, pycodestyle, mccabe, importlib-metadata, flake8, colorlog, iblutil, ONE-api\n",
            "  Attempting uninstall: importlib-metadata\n",
            "    Found existing installation: importlib-metadata 4.13.0\n",
            "    Uninstalling importlib-metadata-4.13.0:\n",
            "      Successfully uninstalled importlib-metadata-4.13.0\n",
            "\u001b[31mERROR: pip's dependency resolver does not currently take into account all the packages that are installed. This behaviour is the source of the following dependency conflicts.\n",
            "markdown 3.4.1 requires importlib-metadata>=4.4; python_version < \"3.10\", but you have importlib-metadata 4.2.0 which is incompatible.\n",
            "gym 0.25.2 requires importlib-metadata>=4.8.0; python_version < \"3.10\", but you have importlib-metadata 4.2.0 which is incompatible.\u001b[0m\n",
            "Successfully installed ONE-api-1.16.1 colorlog-6.7.0 flake8-5.0.4 iblutil-1.3.1 importlib-metadata-4.2.0 mccabe-0.7.0 pycodestyle-2.9.1 pyflakes-2.5.0\n"
          ]
        },
        {
          "output_type": "display_data",
          "data": {
            "application/vnd.colab-display-data+json": {
              "pip_warning": {
                "packages": [
                  "importlib_metadata"
                ]
              }
            }
          },
          "metadata": {}
        }
      ]
    },
    {
      "cell_type": "code",
      "source": [
        "#'alf/probe00/pykilosort/channels.mlapdv.npy'\n",
        "#https://docs.google.com/document/d/1OqIqqakPakHXRAwceYLwFY9gOrm8_P62XIfCTnHwstg/edit#heading=h.5houj8bng5o\n",
        "from one.api import ONE\n",
        "one = ONE(base_url='https://openalyx.internationalbrainlab.org', password='international', silent=True)\n",
        "eids, info = one.search(dataset='probes.description', task_protocol='_iblrig_tasks_ephysChoiceWorld6.4.2', details=True)\n",
        "coordinates=[]\n",
        "brain_regions=[]\n",
        "for eid in eids:\n",
        "  try:\n",
        "    coord = one.load_dataset(eid, '*channels.mlapdv.npy')\n",
        "    brr = one.load_dataset(eid, '*channels.brainLocationIds_ccf_2017.npy')\n",
        "    coordinates.append(coord)\n",
        "    brain_regions.append(brr)\n",
        "  except:\n",
        "    print('this eid doesn\\'t have all of the data: ', eid)"
      ],
      "metadata": {
        "colab": {
          "base_uri": "https://localhost:8080/"
        },
        "id": "2g5CzQRuDbCp",
        "outputId": "7ffcded1-5be6-453c-d7b9-fff52046db94"
      },
      "execution_count": 30,
      "outputs": [
        {
          "output_type": "stream",
          "name": "stderr",
          "text": [
            "/root/Downloads/ONE/openalyx.internationalbrainlab.org/churchlandlab_ucla/Subjects/UCLA037/2022-02-02/001/alf/probe00/pykilosort/channels.brainLocationIds_ccf_2017.npy: 100%|██████████| 3.20k/3.20k [00:00<00:00, 57.0kB/s]\n",
            "/root/Downloads/ONE/openalyx.internationalbrainlab.org/churchlandlab_ucla/Subjects/UCLA034/2022-01-25/001/alf/probe00/pykilosort/channels.brainLocationIds_ccf_2017.npy: 100%|██████████| 3.20k/3.20k [00:00<00:00, 47.8kB/s]\n",
            "/root/Downloads/ONE/openalyx.internationalbrainlab.org/churchlandlab_ucla/Subjects/UCLA014/2021-08-18/001/alf/probe00/pykilosort/channels.brainLocationIds_ccf_2017.npy: 100%|██████████| 3.20k/3.20k [00:00<00:00, 38.3kB/s]\n",
            "/root/Downloads/ONE/openalyx.internationalbrainlab.org/churchlandlab_ucla/Subjects/UCLA011/2021-07-20/001/alf/probe00/pykilosort/channels.brainLocationIds_ccf_2017.npy: 100%|██████████| 3.20k/3.20k [00:00<00:00, 50.1kB/s]\n",
            "/root/Downloads/ONE/openalyx.internationalbrainlab.org/angelakilab/Subjects/NYU-45/2021-07-19/001/alf/probe00/pykilosort/channels.brainLocationIds_ccf_2017.npy: 100%|██████████| 3.20k/3.20k [00:00<00:00, 46.6kB/s]\n",
            "/root/Downloads/ONE/openalyx.internationalbrainlab.org/angelakilab/Subjects/NYU-48/2021-06-28/001/alf/probe00/pykilosort/channels.brainLocationIds_ccf_2017.npy: 100%|██████████| 3.20k/3.20k [00:00<00:00, 46.3kB/s]\n",
            "/root/Downloads/ONE/openalyx.internationalbrainlab.org/mainenlab/Subjects/ZFM-02373/2021-06-23/001/alf/probe00/pykilosort/channels.brainLocationIds_ccf_2017.npy: 100%|██████████| 3.20k/3.20k [00:00<00:00, 58.4kB/s]\n",
            "/root/Downloads/ONE/openalyx.internationalbrainlab.org/angelakilab/Subjects/NYU-47/2021-06-21/003/alf/probe00/pykilosort/channels.brainLocationIds_ccf_2017.npy: 100%|██████████| 3.20k/3.20k [00:00<00:00, 42.3kB/s]\n",
            "/root/Downloads/ONE/openalyx.internationalbrainlab.org/wittenlab/Subjects/ibl_witten_29/2021-06-08/001/alf/probe00/pykilosort/channels.brainLocationIds_ccf_2017.npy: 100%|██████████| 3.20k/3.20k [00:00<00:00, 47.7kB/s]\n",
            "/root/Downloads/ONE/openalyx.internationalbrainlab.org/mainenlab/Subjects/ZFM-02372/2021-06-01/002/alf/probe00/pykilosort/channels.brainLocationIds_ccf_2017.npy: 100%|██████████| 3.20k/3.20k [00:00<00:00, 22.9kB/s]\n",
            "/root/Downloads/ONE/openalyx.internationalbrainlab.org/mainenlab/Subjects/ZFM-02369/2021-05-19/001/alf/probe00/pykilosort/channels.brainLocationIds_ccf_2017.npy: 100%|██████████| 3.20k/3.20k [00:00<00:00, 39.5kB/s]\n",
            "/root/Downloads/ONE/openalyx.internationalbrainlab.org/cortexlab/Subjects/KS055/2021-05-02/001/alf/probe00/pykilosort/channels.brainLocationIds_ccf_2017.npy: 100%|██████████| 3.20k/3.20k [00:00<00:00, 39.7kB/s]\n",
            "/root/Downloads/ONE/openalyx.internationalbrainlab.org/mainenlab/Subjects/ZFM-02370/2021-04-29/001/alf/probe00/pykilosort/channels.brainLocationIds_ccf_2017.npy: 100%|██████████| 3.20k/3.20k [00:00<00:00, 36.1kB/s]\n",
            "/root/Downloads/ONE/openalyx.internationalbrainlab.org/wittenlab/Subjects/ibl_witten_26/2021-01-27/002/alf/probe01/pykilosort/channels.brainLocationIds_ccf_2017.npy: 100%|██████████| 3.20k/3.20k [00:00<00:00, 38.5kB/s]\n",
            "/root/Downloads/ONE/openalyx.internationalbrainlab.org/angelakilab/Subjects/NYU-37/2021-01-25/001/alf/probe00/pykilosort/channels.brainLocationIds_ccf_2017.npy: 100%|██████████| 3.20k/3.20k [00:00<00:00, 61.0kB/s]\n",
            "/root/Downloads/ONE/openalyx.internationalbrainlab.org/wittenlab/Subjects/ibl_witten_27/2021-01-21/001/alf/probe01/pykilosort/channels.brainLocationIds_ccf_2017.npy: 100%|██████████| 3.20k/3.20k [00:00<00:00, 49.4kB/s]\n",
            "/root/Downloads/ONE/openalyx.internationalbrainlab.org/mainenlab/Subjects/ZFM-01936/2021-01-19/001/alf/probe00/pykilosort/channels.brainLocationIds_ccf_2017.npy: 100%|██████████| 3.20k/3.20k [00:00<00:00, 61.4kB/s]\n",
            "/root/Downloads/ONE/openalyx.internationalbrainlab.org/cortexlab/Subjects/KS045/2020-12-09/001/alf/probe01/pykilosort/channels.brainLocationIds_ccf_2017.npy: 100%|██████████| 3.20k/3.20k [00:00<00:00, 72.3kB/s]\n",
            "/root/Downloads/ONE/openalyx.internationalbrainlab.org/cortexlab/Subjects/KS044/2020-12-09/001/alf/probe01/pykilosort/channels.brainLocationIds_ccf_2017.npy: 100%|██████████| 3.20k/3.20k [00:00<00:00, 50.6kB/s]\n",
            "/root/Downloads/ONE/openalyx.internationalbrainlab.org/wittenlab/Subjects/ibl_witten_25/2020-12-07/002/alf/probe01/pykilosort/channels.brainLocationIds_ccf_2017.npy: 100%|██████████| 3.20k/3.20k [00:00<00:00, 54.4kB/s]\n",
            "/root/Downloads/ONE/openalyx.internationalbrainlab.org/mrsicflogellab/Subjects/SWC_058/2020-12-07/001/alf/probe01/pykilosort/channels.brainLocationIds_ccf_2017.npy: 100%|██████████| 3.20k/3.20k [00:00<00:00, 61.4kB/s]\n",
            "/root/Downloads/ONE/openalyx.internationalbrainlab.org/mainenlab/Subjects/ZFM-01576/2020-12-01/001/alf/probe00/pykilosort/channels.brainLocationIds_ccf_2017.npy: 100%|██████████| 3.20k/3.20k [00:00<00:00, 45.8kB/s]\n",
            "/root/Downloads/ONE/openalyx.internationalbrainlab.org/hoferlab/Subjects/SWC_060/2020-11-24/001/alf/probe01/pykilosort/channels.brainLocationIds_ccf_2017.npy: 100%|██████████| 3.20k/3.20k [00:00<00:00, 41.2kB/s]\n",
            "/root/Downloads/ONE/openalyx.internationalbrainlab.org/mrsicflogellab/Subjects/SWC_052/2020-10-22/001/alf/probe01/pykilosort/channels.brainLocationIds_ccf_2017.npy: 100%|██████████| 3.20k/3.20k [00:00<00:00, 73.3kB/s]\n",
            "/root/Downloads/ONE/openalyx.internationalbrainlab.org/mainenlab/Subjects/ZFM-01592/2020-10-20/001/alf/probe00/pykilosort/channels.brainLocationIds_ccf_2017.npy: 100%|██████████| 3.20k/3.20k [00:00<00:00, 61.2kB/s]\n",
            "/root/Downloads/ONE/openalyx.internationalbrainlab.org/angelakilab/Subjects/NYU-30/2020-10-19/001/alf/probe00/pykilosort/channels.brainLocationIds_ccf_2017.npy: 100%|██████████| 3.20k/3.20k [00:00<00:00, 41.2kB/s]\n",
            "/root/Downloads/ONE/openalyx.internationalbrainlab.org/danlab/Subjects/DY_018/2020-10-15/001/alf/probe00/pykilosort/channels.brainLocationIds_ccf_2017.npy: 100%|██████████| 3.20k/3.20k [00:00<00:00, 56.1kB/s]\n",
            "/root/Downloads/ONE/openalyx.internationalbrainlab.org/mrsicflogellab/Subjects/SWC_054/2020-10-05/001/alf/probe01/pykilosort/channels.brainLocationIds_ccf_2017.npy: 100%|██████████| 3.20k/3.20k [00:00<00:00, 63.4kB/s]\n",
            "/root/Downloads/ONE/openalyx.internationalbrainlab.org/danlab/Subjects/DY_020/2020-09-29/001/alf/probe00/pykilosort/channels.brainLocationIds_ccf_2017.npy: 100%|██████████| 3.20k/3.20k [00:00<00:00, 21.3kB/s]\n"
          ]
        },
        {
          "output_type": "stream",
          "name": "stdout",
          "text": [
            "this eid doesn't have local coordinates:  4ecb5d24-f5cc-402c-be28-9d0f7cb14b3a\n"
          ]
        },
        {
          "output_type": "stream",
          "name": "stderr",
          "text": [
            "/root/Downloads/ONE/openalyx.internationalbrainlab.org/angelakilab/Subjects/NYU-29/2020-09-21/001/alf/probe00/pykilosort/channels.brainLocationIds_ccf_2017.npy: 100%|██████████| 3.20k/3.20k [00:00<00:00, 54.8kB/s]\n",
            "/root/Downloads/ONE/openalyx.internationalbrainlab.org/zadorlab/Subjects/CSH_ZAD_029/2020-09-19/001/alf/probe01/channels.brainLocationIds_ccf_2017.npy: 100%|██████████| 3.12k/3.12k [00:00<00:00, 45.4kB/s]\n",
            "/root/Downloads/ONE/openalyx.internationalbrainlab.org/hoferlab/Subjects/SWC_043/2020-09-16/002/alf/probe01/pykilosort/channels.brainLocationIds_ccf_2017.npy: 100%|██████████| 3.20k/3.20k [00:00<00:00, 16.7kB/s]\n",
            "/root/Downloads/ONE/openalyx.internationalbrainlab.org/danlab/Subjects/DY_016/2020-09-12/001/alf/probe00/pykilosort/channels.brainLocationIds_ccf_2017.npy: 100%|██████████| 3.20k/3.20k [00:00<00:00, 27.1kB/s]\n"
          ]
        }
      ]
    },
    {
      "cell_type": "code",
      "source": [
        "brr"
      ],
      "metadata": {
        "colab": {
          "base_uri": "https://localhost:8080/"
        },
        "id": "9_oZd2I_G5Tf",
        "outputId": "f572788c-04cf-4387-9714-486118bd68e5"
      },
      "execution_count": 33,
      "outputs": [
        {
          "output_type": "execute_result",
          "data": {
            "text/plain": [
              "array([      697,       697,       697,       697,       697,       697,\n",
              "             697,       697,       549,       549,       549,       549,\n",
              "             725,       725,       725,       725,       725,       725,\n",
              "             725,       725,       725,       725,       725,       725,\n",
              "             725,       725,       725,       725,       725,       725,\n",
              "             725,       725,      1020,      1020,      1020,      1020,\n",
              "            1020,      1020,      1020,      1020,      1020,      1020,\n",
              "            1020,      1020,      1020,      1020,      1020,      1020,\n",
              "            1020,      1020,      1020,      1020,      1020,      1020,\n",
              "            1020,      1020,      1020,      1020,      1020,      1020,\n",
              "            1020,      1020,      1020,      1020,      1020,      1020,\n",
              "            1020,      1020,      1020,      1020,      1020,      1020,\n",
              "            1020,      1020,      1020,      1020,      1020,      1020,\n",
              "            1020,      1020,      1020,      1020,      1020,      1020,\n",
              "            1020,      1020,      1020,      1020,      1020,      1020,\n",
              "            1020,      1020,      1020,      1020,      1020,      1020,\n",
              "            1020,      1020,      1020,      1020,      1020,      1020,\n",
              "            1020,      1020,      1020,      1020,      1020,      1020,\n",
              "            1020,      1020,      1020,      1020,      1020,      1020,\n",
              "       560581551, 560581551, 560581551, 560581551, 560581551, 560581551,\n",
              "       560581551, 560581551, 560581551, 560581551, 560581551, 560581551,\n",
              "       560581551, 560581551, 560581551, 560581551, 560581551, 560581551,\n",
              "       560581551, 560581551, 560581551, 560581551, 560581551, 560581551,\n",
              "       560581551, 560581551, 560581551, 560581551,       218,       218,\n",
              "             218,       218,       218,       218,       218,       218,\n",
              "             218,       218,       218,       218,       218,       218,\n",
              "             218,       218,       218,       218,       218,       218,\n",
              "             218,       218,       218,       218,       218,       218,\n",
              "             218,       218,       218,       218,       218,       218,\n",
              "             218,       218,       218,       218,       218,       218,\n",
              "             218,       218,       218,       218,       218,       218,\n",
              "             218,       218,       218,       218,       218,       218,\n",
              "             218,       218,       218,       218,       218,       218,\n",
              "             218,       218,       218,       218,       218,       218,\n",
              "             916,       916,       916,       916,      1009,      1009,\n",
              "             997,       997,       997,       997,     10703,     10703,\n",
              "           10703,     10703,     10703,     10703,     10703,     10703,\n",
              "           10703,     10703,     10703,     10703,     10703,     10703,\n",
              "           10703,     10703,     10703,     10703,     10703,     10703,\n",
              "             632,       632,       632,       632,       632,       632,\n",
              "           10704,     10704,     10704,     10704,     10704,     10704,\n",
              "           10704,     10704,       632,       632,       632,       632,\n",
              "             632,       632,       632,       632,       632,       632,\n",
              "             632,       632,     10703,     10703,     10703,     10703,\n",
              "           10703,     10703,     10703,     10703,     10703,     10703,\n",
              "           10703,     10703,     10703,     10703,     10703,     10703,\n",
              "           10703,     10703,     10703,     10703,       382,       382,\n",
              "             382,       382,       382,       382,       382,       382,\n",
              "             382,       382,       382,       382,       382,       382,\n",
              "             382,       382,       382,       382,       382,       382,\n",
              "             382,       382,       382,       382,       382,       382,\n",
              "             382,       382,       382,       382,       382,       382,\n",
              "             382,       382,       382,       382,       382,       382,\n",
              "             382,       382,       382,       382,       382,       382,\n",
              "             382,       382,       382,       382,       382,       382,\n",
              "             382,       382,       382,       382,       382,       382,\n",
              "             466,       466,       466,       466,       971,       971,\n",
              "             971,       971,       971,       971,       971,       971,\n",
              "       484682520, 484682520, 484682520, 484682520,       940,       940,\n",
              "             940,       940,       441,       441,      1046,      1046,\n",
              "            1046,      1046,      1046,      1046,      1046,      1046,\n",
              "            1046,      1046,      1046,      1046,      1046,      1046,\n",
              "            1046,      1046,      1046,      1046,       433,       433,\n",
              "             433,       433,       433,       433,       433,       433])"
            ]
          },
          "metadata": {},
          "execution_count": 33
        }
      ]
    },
    {
      "cell_type": "code",
      "source": [
        "print(brain_regions[0].shape)\n",
        "print(coordinates[0].shape)"
      ],
      "metadata": {
        "colab": {
          "base_uri": "https://localhost:8080/"
        },
        "id": "lg_jzCkuEbhG",
        "outputId": "42fa93df-2999-4de6-a5c0-4c154f83b92e"
      },
      "execution_count": 35,
      "outputs": [
        {
          "output_type": "stream",
          "name": "stdout",
          "text": [
            "(384,)\n",
            "(384, 3)\n"
          ]
        }
      ]
    },
    {
      "cell_type": "code",
      "source": [],
      "metadata": {
        "colab": {
          "base_uri": "https://localhost:8080/"
        },
        "id": "e_DNYNuMEu_g",
        "outputId": "10b28524-5610-48c3-a745-70e52f107bdf"
      },
      "execution_count": 29,
      "outputs": [
        {
          "output_type": "execute_result",
          "data": {
            "text/plain": [
              "array([[ -771, -2765, -4420],\n",
              "       [ -771, -2765, -4420],\n",
              "       [ -778, -2762, -4399],\n",
              "       ...,\n",
              "       [-2034, -2199,  -578],\n",
              "       [-2040, -2199,  -557],\n",
              "       [-2040, -2199,  -557]], dtype=int32)"
            ]
          },
          "metadata": {},
          "execution_count": 29
        }
      ]
    },
    {
      "cell_type": "code",
      "source": [
        "from mcmodels.core import VoxelModelCache\n",
        "cache = VoxelModelCache(manifest_file='connectivity/voxel_model_manifest.json')"
      ],
      "metadata": {
        "id": "aUIR-H1S7Z4C"
      },
      "execution_count": 19,
      "outputs": []
    }
  ]
}