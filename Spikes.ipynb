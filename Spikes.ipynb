{
  "nbformat": 4,
  "nbformat_minor": 0,
  "metadata": {
    "colab": {
      "provenance": [],
      "authorship_tag": "ABX9TyMbggB3I58dsvfBwuHR5Ljq",
      "include_colab_link": true
    },
    "kernelspec": {
      "name": "python3",
      "display_name": "Python 3"
    },
    "language_info": {
      "name": "python"
    }
  },
  "cells": [
    {
      "cell_type": "markdown",
      "metadata": {
        "id": "view-in-github",
        "colab_type": "text"
      },
      "source": [
        "<a href=\"https://colab.research.google.com/github/MariaKCodes/OpenMScThesisInNeuroPixelProbeDataAnalysis/blob/main/Spikes.ipynb\" target=\"_parent\"><img src=\"https://colab.research.google.com/assets/colab-badge.svg\" alt=\"Open In Colab\"/></a>"
      ]
    },
    {
      "cell_type": "code",
      "source": [
        "!pip install ONE-api"
      ],
      "metadata": {
        "colab": {
          "base_uri": "https://localhost:8080/"
        },
        "id": "XK32IwQIpBkE",
        "outputId": "75dc4a7c-1e97-41a7-d4a6-1bdf13c71835"
      },
      "execution_count": 2,
      "outputs": [
        {
          "output_type": "stream",
          "name": "stdout",
          "text": [
            "Looking in indexes: https://pypi.org/simple, https://us-python.pkg.dev/colab-wheels/public/simple/\n",
            "Collecting ONE-api\n",
            "  Downloading ONE_api-1.16.0-py3-none-any.whl (96 kB)\n",
            "\u001b[K     |████████████████████████████████| 96 kB 4.6 MB/s \n",
            "\u001b[?25hRequirement already satisfied: pandas>=1.2.4 in /usr/local/lib/python3.7/dist-packages (from ONE-api) (1.3.5)\n",
            "Requirement already satisfied: numpy>=1.18 in /usr/local/lib/python3.7/dist-packages (from ONE-api) (1.21.6)\n",
            "Requirement already satisfied: packaging in /usr/local/lib/python3.7/dist-packages (from ONE-api) (21.3)\n",
            "Collecting iblutil>=1.1.0\n",
            "  Downloading iblutil-1.3.1-py3-none-any.whl (12 kB)\n",
            "Requirement already satisfied: pyyaml in /usr/local/lib/python3.7/dist-packages (from ONE-api) (6.0)\n",
            "Collecting boto3\n",
            "  Downloading boto3-1.24.86-py3-none-any.whl (132 kB)\n",
            "\u001b[K     |████████████████████████████████| 132 kB 69.0 MB/s \n",
            "\u001b[?25hRequirement already satisfied: requests>=2.22.0 in /usr/local/lib/python3.7/dist-packages (from ONE-api) (2.23.0)\n",
            "Requirement already satisfied: tqdm>=4.32.1 in /usr/local/lib/python3.7/dist-packages (from ONE-api) (4.64.1)\n",
            "Collecting flake8>=3.7.8\n",
            "  Downloading flake8-5.0.4-py2.py3-none-any.whl (61 kB)\n",
            "\u001b[K     |████████████████████████████████| 61 kB 553 kB/s \n",
            "\u001b[?25hCollecting pyflakes<2.6.0,>=2.5.0\n",
            "  Downloading pyflakes-2.5.0-py2.py3-none-any.whl (66 kB)\n",
            "\u001b[K     |████████████████████████████████| 66 kB 5.2 MB/s \n",
            "\u001b[?25hCollecting importlib-metadata<4.3,>=1.1.0\n",
            "  Downloading importlib_metadata-4.2.0-py3-none-any.whl (16 kB)\n",
            "Collecting mccabe<0.8.0,>=0.7.0\n",
            "  Downloading mccabe-0.7.0-py2.py3-none-any.whl (7.3 kB)\n",
            "Collecting pycodestyle<2.10.0,>=2.9.0\n",
            "  Downloading pycodestyle-2.9.1-py2.py3-none-any.whl (41 kB)\n",
            "\u001b[K     |████████████████████████████████| 41 kB 378 kB/s \n",
            "\u001b[?25hCollecting colorlog>=6.0.0\n",
            "  Downloading colorlog-6.7.0-py2.py3-none-any.whl (11 kB)\n",
            "Requirement already satisfied: pyarrow in /usr/local/lib/python3.7/dist-packages (from iblutil>=1.1.0->ONE-api) (6.0.1)\n",
            "Requirement already satisfied: numba in /usr/local/lib/python3.7/dist-packages (from iblutil>=1.1.0->ONE-api) (0.56.2)\n",
            "Requirement already satisfied: zipp>=0.5 in /usr/local/lib/python3.7/dist-packages (from importlib-metadata<4.3,>=1.1.0->flake8>=3.7.8->ONE-api) (3.8.1)\n",
            "Requirement already satisfied: typing-extensions>=3.6.4 in /usr/local/lib/python3.7/dist-packages (from importlib-metadata<4.3,>=1.1.0->flake8>=3.7.8->ONE-api) (4.1.1)\n",
            "Requirement already satisfied: pytz>=2017.3 in /usr/local/lib/python3.7/dist-packages (from pandas>=1.2.4->ONE-api) (2022.2.1)\n",
            "Requirement already satisfied: python-dateutil>=2.7.3 in /usr/local/lib/python3.7/dist-packages (from pandas>=1.2.4->ONE-api) (2.8.2)\n",
            "Requirement already satisfied: six>=1.5 in /usr/local/lib/python3.7/dist-packages (from python-dateutil>=2.7.3->pandas>=1.2.4->ONE-api) (1.15.0)\n",
            "Requirement already satisfied: certifi>=2017.4.17 in /usr/local/lib/python3.7/dist-packages (from requests>=2.22.0->ONE-api) (2022.6.15)\n",
            "Requirement already satisfied: urllib3!=1.25.0,!=1.25.1,<1.26,>=1.21.1 in /usr/local/lib/python3.7/dist-packages (from requests>=2.22.0->ONE-api) (1.24.3)\n",
            "Requirement already satisfied: idna<3,>=2.5 in /usr/local/lib/python3.7/dist-packages (from requests>=2.22.0->ONE-api) (2.10)\n",
            "Requirement already satisfied: chardet<4,>=3.0.2 in /usr/local/lib/python3.7/dist-packages (from requests>=2.22.0->ONE-api) (3.0.4)\n",
            "Collecting s3transfer<0.7.0,>=0.6.0\n",
            "  Downloading s3transfer-0.6.0-py3-none-any.whl (79 kB)\n",
            "\u001b[K     |████████████████████████████████| 79 kB 9.1 MB/s \n",
            "\u001b[?25hCollecting botocore<1.28.0,>=1.27.86\n",
            "  Downloading botocore-1.27.86-py3-none-any.whl (9.2 MB)\n",
            "\u001b[K     |████████████████████████████████| 9.2 MB 66.1 MB/s \n",
            "\u001b[?25hCollecting jmespath<2.0.0,>=0.7.1\n",
            "  Downloading jmespath-1.0.1-py3-none-any.whl (20 kB)\n",
            "Collecting urllib3!=1.25.0,!=1.25.1,<1.26,>=1.21.1\n",
            "  Downloading urllib3-1.25.11-py2.py3-none-any.whl (127 kB)\n",
            "\u001b[K     |████████████████████████████████| 127 kB 50.2 MB/s \n",
            "\u001b[?25hRequirement already satisfied: setuptools<60 in /usr/local/lib/python3.7/dist-packages (from numba->iblutil>=1.1.0->ONE-api) (57.4.0)\n",
            "Requirement already satisfied: llvmlite<0.40,>=0.39.0dev0 in /usr/local/lib/python3.7/dist-packages (from numba->iblutil>=1.1.0->ONE-api) (0.39.1)\n",
            "Requirement already satisfied: pyparsing!=3.0.5,>=2.0.2 in /usr/local/lib/python3.7/dist-packages (from packaging->ONE-api) (3.0.9)\n",
            "Installing collected packages: urllib3, jmespath, pyflakes, pycodestyle, mccabe, importlib-metadata, botocore, s3transfer, flake8, colorlog, iblutil, boto3, ONE-api\n",
            "  Attempting uninstall: urllib3\n",
            "    Found existing installation: urllib3 1.24.3\n",
            "    Uninstalling urllib3-1.24.3:\n",
            "      Successfully uninstalled urllib3-1.24.3\n",
            "  Attempting uninstall: importlib-metadata\n",
            "    Found existing installation: importlib-metadata 4.12.0\n",
            "    Uninstalling importlib-metadata-4.12.0:\n",
            "      Successfully uninstalled importlib-metadata-4.12.0\n",
            "\u001b[31mERROR: pip's dependency resolver does not currently take into account all the packages that are installed. This behaviour is the source of the following dependency conflicts.\n",
            "markdown 3.4.1 requires importlib-metadata>=4.4; python_version < \"3.10\", but you have importlib-metadata 4.2.0 which is incompatible.\n",
            "gym 0.25.2 requires importlib-metadata>=4.8.0; python_version < \"3.10\", but you have importlib-metadata 4.2.0 which is incompatible.\u001b[0m\n",
            "Successfully installed ONE-api-1.16.0 boto3-1.24.86 botocore-1.27.86 colorlog-6.7.0 flake8-5.0.4 iblutil-1.3.1 importlib-metadata-4.2.0 jmespath-1.0.1 mccabe-0.7.0 pycodestyle-2.9.1 pyflakes-2.5.0 s3transfer-0.6.0 urllib3-1.25.11\n"
          ]
        }
      ]
    },
    {
      "cell_type": "code",
      "execution_count": 4,
      "metadata": {
        "id": "oIzT3yR4oqeQ"
      },
      "outputs": [],
      "source": [
        "from one.api import ONE\n",
        "one = ONE(base_url='https://openalyx.internationalbrainlab.org', password='international', silent=True)\n",
        "eids, info = one.search(dataset='probes.description', task_protocol='_iblrig_tasks_ephysChoiceWorld6.4.2', details=True)\n"
      ]
    },
    {
      "cell_type": "code",
      "source": [
        "eid = eids[0]  \n",
        "probe_insertions = one.load_dataset(eid, 'probes.description')\n",
        "\n",
        "from pprint import pprint\n",
        "print(f'N probes = {len(probe_insertions)}')\n",
        "pprint(probe_insertions[0])\n",
        "pprint(probe_insertions[1])"
      ],
      "metadata": {
        "colab": {
          "base_uri": "https://localhost:8080/"
        },
        "id": "bWgLSJfXqdf4",
        "outputId": "d9421a3f-8463-407b-df81-6be2639af134"
      },
      "execution_count": 6,
      "outputs": [
        {
          "output_type": "stream",
          "name": "stdout",
          "text": [
            "N probes = 2\n",
            "{'label': 'probe00',\n",
            " 'model': '3B2',\n",
            " 'raw_file_name': 'D:/iblrig_data/Subjects/UCLA037/2022-02-02/001/raw_ephys_data/probe00/_spikeglx_ephysData_g0/_spikeglx_ephysData_g0_imec0/_spikeglx_ephysData_g0_t0.imec0.ap.bin',\n",
            " 'serial': 19051010091}\n",
            "{'label': 'probe01',\n",
            " 'model': '3B2',\n",
            " 'raw_file_name': 'D:/iblrig_data/Subjects/UCLA037/2022-02-02/001/raw_ephys_data/probe01/_spikeglx_ephysData_g0/_spikeglx_ephysData_g0_imec1/_spikeglx_ephysData_g0_t0.imec1.ap.bin',\n",
            " 'serial': 19051010152}\n"
          ]
        }
      ]
    },
    {
      "cell_type": "code",
      "source": [
        "probe_label = probe_insertions[0]['label']\n",
        "one.list_datasets(eid, collection=f'alf/{probe_label}')"
      ],
      "metadata": {
        "colab": {
          "base_uri": "https://localhost:8080/"
        },
        "id": "L0ydBHHaqje6",
        "outputId": "bbd9f0c7-922c-47dc-d78f-a91f3c2c5348"
      },
      "execution_count": null,
      "outputs": [
        {
          "output_type": "execute_result",
          "data": {
            "text/plain": [
              "['alf/probe00/electrodeSites.brainLocationIds_ccf_2017.npy',\n",
              " 'alf/probe00/electrodeSites.localCoordinates.npy',\n",
              " 'alf/probe00/electrodeSites.mlapdv.npy']"
            ]
          },
          "metadata": {},
          "execution_count": 4
        }
      ]
    },
    {
      "cell_type": "code",
      "source": [
        "eid"
      ],
      "metadata": {
        "colab": {
          "base_uri": "https://localhost:8080/",
          "height": 35
        },
        "id": "2b_7WWwO6-7z",
        "outputId": "ccbca165-26f3-4e4a-d371-6babf6238982"
      },
      "execution_count": 7,
      "outputs": [
        {
          "output_type": "execute_result",
          "data": {
            "text/plain": [
              "'2bdf206a-820f-402f-920a-9e86cd5388a4'"
            ],
            "application/vnd.google.colaboratory.intrinsic+json": {
              "type": "string"
            }
          },
          "metadata": {},
          "execution_count": 7
        }
      ]
    },
    {
      "cell_type": "code",
      "source": [
        "!pip install brainbox.io"
      ],
      "metadata": {
        "colab": {
          "base_uri": "https://localhost:8080/"
        },
        "id": "k7wU1iyR7JI2",
        "outputId": "ebcf4824-4b37-4b98-8c42-c0502a3569fe"
      },
      "execution_count": 11,
      "outputs": [
        {
          "output_type": "stream",
          "name": "stdout",
          "text": [
            "Looking in indexes: https://pypi.org/simple, https://us-python.pkg.dev/colab-wheels/public/simple/\n",
            "\u001b[31mERROR: Could not find a version that satisfies the requirement brainbox.io (from versions: none)\u001b[0m\n",
            "\u001b[31mERROR: No matching distribution found for brainbox.io\u001b[0m\n"
          ]
        }
      ]
    },
    {
      "cell_type": "code",
      "source": [
        "from one.api import ONE\n",
        "from brainbox.io.one import SpikeSortingLoader\n",
        "from ibllib.atlas import AllenAtlas\n",
        "\n",
        "one = ONE()\n",
        "ba = AllenAtlas()\n",
        "pid = eid\n",
        "\n",
        "sl = SpikeSortingLoader(pid=pid, one=one, atlas=ba)\n",
        "spikes, clusters, channels = sl.load_spike_sorting()\n",
        "clusters = sl.merge_clusters(spikes, clusters, channels)"
      ],
      "metadata": {
        "colab": {
          "base_uri": "https://localhost:8080/",
          "height": 373
        },
        "id": "6dNd2FM27GQ9",
        "outputId": "edcc8368-aa48-4285-e197-5fabff2d7d15"
      },
      "execution_count": 8,
      "outputs": [
        {
          "output_type": "error",
          "ename": "ModuleNotFoundError",
          "evalue": "ignored",
          "traceback": [
            "\u001b[0;31m---------------------------------------------------------------------------\u001b[0m",
            "\u001b[0;31mModuleNotFoundError\u001b[0m                       Traceback (most recent call last)",
            "\u001b[0;32m<ipython-input-8-9e4e57ddf284>\u001b[0m in \u001b[0;36m<module>\u001b[0;34m\u001b[0m\n\u001b[1;32m      1\u001b[0m \u001b[0;32mfrom\u001b[0m \u001b[0mone\u001b[0m\u001b[0;34m.\u001b[0m\u001b[0mapi\u001b[0m \u001b[0;32mimport\u001b[0m \u001b[0mONE\u001b[0m\u001b[0;34m\u001b[0m\u001b[0;34m\u001b[0m\u001b[0m\n\u001b[0;32m----> 2\u001b[0;31m \u001b[0;32mfrom\u001b[0m \u001b[0mbrainbox\u001b[0m\u001b[0;34m.\u001b[0m\u001b[0mio\u001b[0m\u001b[0;34m.\u001b[0m\u001b[0mone\u001b[0m \u001b[0;32mimport\u001b[0m \u001b[0mSpikeSortingLoader\u001b[0m\u001b[0;34m\u001b[0m\u001b[0;34m\u001b[0m\u001b[0m\n\u001b[0m\u001b[1;32m      3\u001b[0m \u001b[0;32mfrom\u001b[0m \u001b[0mibllib\u001b[0m\u001b[0;34m.\u001b[0m\u001b[0matlas\u001b[0m \u001b[0;32mimport\u001b[0m \u001b[0mAllenAtlas\u001b[0m\u001b[0;34m\u001b[0m\u001b[0;34m\u001b[0m\u001b[0m\n\u001b[1;32m      4\u001b[0m \u001b[0;34m\u001b[0m\u001b[0m\n\u001b[1;32m      5\u001b[0m \u001b[0mone\u001b[0m \u001b[0;34m=\u001b[0m \u001b[0mONE\u001b[0m\u001b[0;34m(\u001b[0m\u001b[0;34m)\u001b[0m\u001b[0;34m\u001b[0m\u001b[0;34m\u001b[0m\u001b[0m\n",
            "\u001b[0;31mModuleNotFoundError\u001b[0m: No module named 'brainbox'",
            "",
            "\u001b[0;31m---------------------------------------------------------------------------\u001b[0;32m\nNOTE: If your import is failing due to a missing package, you can\nmanually install dependencies using either !pip or !apt.\n\nTo view examples of installing some common dependencies, click the\n\"Open Examples\" button below.\n\u001b[0;31m---------------------------------------------------------------------------\u001b[0m\n"
          ],
          "errorDetails": {
            "actions": [
              {
                "action": "open_url",
                "actionText": "Open Examples",
                "url": "/notebooks/snippets/importing_libraries.ipynb"
              }
            ]
          }
        }
      ]
    },
    {
      "cell_type": "code",
      "source": [
        "spikes = one.load_object(eid, 'spikes',\n",
        "                         collection='alf/probe00/pykilosort', attribute=['times', 'channels', 'clusters'])\n",
        "spikes"
      ],
      "metadata": {
        "colab": {
          "base_uri": "https://localhost:8080/"
        },
        "id": "N49KcpSz72j1",
        "outputId": "7cba7710-57c6-4b1c-b18f-2b987fb33ad9"
      },
      "execution_count": 42,
      "outputs": [
        {
          "output_type": "execute_result",
          "data": {
            "text/plain": [
              "{'clusters': array([ 90,  20, 172, ..., 117, 135, 343], dtype=uint32),\n",
              " 'times': array([1.32594040e-02, 1.38260698e-02, 1.38927363e-02, ...,\n",
              "        5.10921711e+03, 5.10921714e+03, 5.10921811e+03])}"
            ]
          },
          "metadata": {},
          "execution_count": 42
        }
      ]
    },
    {
      "cell_type": "code",
      "source": [
        "import numpy as np\n",
        "cl=spikes['clusters']\n",
        "np.unique(cl)"
      ],
      "metadata": {
        "colab": {
          "base_uri": "https://localhost:8080/"
        },
        "id": "kMOS34rJ8bw9",
        "outputId": "274fc869-2980-4ea5-8b32-fdcb7b3d4634"
      },
      "execution_count": 43,
      "outputs": [
        {
          "output_type": "execute_result",
          "data": {
            "text/plain": [
              "array([  0,   1,   2,   3,   4,   5,   6,   7,   8,   9,  10,  11,  12,\n",
              "        13,  14,  15,  16,  17,  18,  19,  20,  21,  22,  23,  24,  25,\n",
              "        26,  27,  28,  29,  30,  31,  32,  33,  34,  35,  36,  37,  38,\n",
              "        39,  40,  41,  42,  43,  44,  45,  46,  47,  48,  49,  50,  51,\n",
              "        52,  53,  54,  55,  56,  57,  58,  59,  60,  61,  62,  63,  64,\n",
              "        65,  66,  67,  68,  69,  70,  71,  72,  73,  74,  75,  76,  77,\n",
              "        78,  79,  80,  81,  82,  83,  84,  85,  86,  87,  88,  89,  90,\n",
              "        91,  92,  93,  94,  95,  96,  97,  98,  99, 100, 101, 102, 103,\n",
              "       104, 105, 106, 107, 108, 109, 110, 111, 112, 113, 114, 115, 116,\n",
              "       117, 118, 119, 120, 121, 122, 123, 124, 125, 126, 127, 128, 129,\n",
              "       130, 131, 132, 133, 134, 135, 136, 137, 138, 139, 140, 141, 142,\n",
              "       143, 144, 145, 146, 147, 148, 149, 150, 151, 152, 153, 154, 155,\n",
              "       156, 157, 158, 159, 160, 161, 162, 163, 164, 165, 166, 167, 168,\n",
              "       169, 170, 171, 172, 173, 174, 175, 176, 177, 178, 179, 180, 181,\n",
              "       182, 183, 184, 185, 186, 187, 188, 189, 190, 191, 192, 193, 194,\n",
              "       195, 196, 197, 198, 199, 200, 201, 202, 203, 204, 205, 206, 207,\n",
              "       208, 209, 210, 211, 212, 213, 214, 215, 216, 217, 218, 219, 220,\n",
              "       221, 222, 223, 224, 225, 226, 227, 228, 229, 230, 231, 232, 233,\n",
              "       234, 235, 236, 237, 238, 239, 240, 241, 242, 243, 244, 245, 246,\n",
              "       247, 248, 249, 250, 251, 252, 253, 254, 255, 256, 257, 258, 259,\n",
              "       260, 261, 262, 263, 264, 265, 266, 267, 268, 269, 270, 271, 272,\n",
              "       273, 274, 275, 276, 277, 278, 279, 280, 281, 282, 283, 284, 285,\n",
              "       286, 287, 288, 289, 290, 291, 292, 293, 294, 295, 296, 297, 298,\n",
              "       299, 300, 301, 302, 303, 304, 305, 306, 307, 308, 309, 310, 311,\n",
              "       312, 313, 314, 315, 316, 317, 318, 319, 320, 321, 322, 323, 324,\n",
              "       325, 326, 327, 328, 329, 330, 331, 332, 333, 334, 335, 336, 337,\n",
              "       338, 339, 340, 341, 342, 343, 344, 345, 346, 347, 348, 349, 350,\n",
              "       351, 352, 353, 354, 355, 356, 357, 358, 359, 360, 361, 362, 363,\n",
              "       364, 365, 366, 367, 368, 369, 370, 371, 372, 373, 374, 375, 376,\n",
              "       377, 378, 379, 380, 381, 382, 383, 384, 385, 386, 387, 388, 389,\n",
              "       390, 391, 392, 393, 394, 395, 396, 397, 398, 399, 400, 401, 402,\n",
              "       403, 404, 405, 406, 407, 408, 409, 410, 411, 412, 413, 414, 415,\n",
              "       416, 417, 418, 419, 420, 421, 422, 423, 424, 425, 426, 427, 428,\n",
              "       429, 430, 431, 432, 433, 434, 435, 436, 437, 438, 439, 440, 441,\n",
              "       442, 443, 444, 445, 446, 447, 448, 449, 450, 451, 452, 453, 454,\n",
              "       455, 456, 457, 458, 459, 460, 461, 462, 463, 464, 465, 466, 467,\n",
              "       468, 469, 470, 471, 472, 473, 474, 475, 476, 477, 478, 479, 480,\n",
              "       481, 482, 483, 484, 485, 486, 487, 488, 489, 490, 491, 492, 493,\n",
              "       494, 495, 496, 497, 498, 499, 500, 501, 502], dtype=uint32)"
            ]
          },
          "metadata": {},
          "execution_count": 43
        }
      ]
    },
    {
      "cell_type": "code",
      "source": [
        "def bin_spikes(spike_times,spike_clusters, bin_size = 10):\n",
        "\n",
        "    # Using clusters._phy_annotation.npy obtain valid clusters (i.e. >= 2)\n",
        "    # valid_clusters_idx = np.array(np.where(clusters_annotation>=2))[0]\n",
        "\n",
        "    spike_time_cells = np.empty(np.unique(spike_clusters).shape[0], dtype=object) # Initalise empty object\n",
        "    for i in (np.arange(len(np.unique(spike_clusters)))):\n",
        "      # Create a spike time arrays, where each array in the array is a spike time of a cell\n",
        "      spike_time_cells[i] = spike_times[(np.where(spike_clusters == i)[0])]\n",
        "\n",
        "    # Bin spike times into 10ms intervals\n",
        "    spike_time_binned = np.empty(len(np.unique(spike_clusters)), dtype=object) # Initalise empty object\n",
        "    sum_spikes = np.empty(len(np.unique(spike_clusters)), dtype=object) # Initalise empty object\n",
        "\n",
        "    for cell_num in np.arange(len(spike_time_cells)):\n",
        "        spike_time_hist = np.histogram(spike_time_cells[cell_num],bins = np.arange(0,np.floor(spike_time_cells[cell_num][-1]),bin_size))\n",
        "        spike_time_binned[cell_num] = spike_time_hist[0]\n",
        "        sum_spikes[cell_num] = np.sum(spike_time_binned[cell_num])\n",
        "\n",
        "    cell_spikes_max = np.argmax(sum_spikes) # cell with the maximum number of spikes for plotting purposes\n",
        "\n",
        "    # Spike_time_binned returns binned spikes sorted into cells\n",
        "    # Spike_time_cells returns UNbinned spikes sorted into cells\n",
        "    # cell_spikes_max returns a single cell index that has the max number of spikes (i.e most active cell)\n",
        "    return spike_time_binned, spike_time_cells, cell_spikes_max"
      ],
      "metadata": {
        "id": "bboRy-5w_MCH"
      },
      "execution_count": 32,
      "outputs": []
    },
    {
      "cell_type": "code",
      "source": [
        "spike_clusters=spikes['clusters']\n",
        "spike_times=spikes['times']"
      ],
      "metadata": {
        "id": "oCDupTLKAUP1"
      },
      "execution_count": 23,
      "outputs": []
    },
    {
      "cell_type": "code",
      "source": [
        "spike_time_binned, spike_time_cells, cell_spikes_max=bin_spikes(spike_times,spike_clusters, bin_size = 10)"
      ],
      "metadata": {
        "id": "_RyX28XYAiHX"
      },
      "execution_count": 33,
      "outputs": []
    },
    {
      "cell_type": "code",
      "source": [
        "valid=np.unique(spike_clusters[spike_clusters>=2])\n",
        "print(valid.shape)"
      ],
      "metadata": {
        "colab": {
          "base_uri": "https://localhost:8080/"
        },
        "id": "J8Y-9tWIDCQK",
        "outputId": "32de4662-7a5c-49a8-ed5b-31514dbfba21"
      },
      "execution_count": 35,
      "outputs": [
        {
          "output_type": "stream",
          "name": "stdout",
          "text": [
            "(501,)\n"
          ]
        }
      ]
    },
    {
      "cell_type": "code",
      "source": [
        "import matplotlib.pyplot as plt\n",
        "\n",
        "print(spike_time_binned.shape)"
      ],
      "metadata": {
        "colab": {
          "base_uri": "https://localhost:8080/"
        },
        "id": "cbfHDTjdAoLt",
        "outputId": "aea8e5df-2d65-4b31-ed69-b1410996d1f8"
      },
      "execution_count": 25,
      "outputs": [
        {
          "output_type": "stream",
          "name": "stdout",
          "text": [
            "(503,)\n"
          ]
        }
      ]
    },
    {
      "cell_type": "code",
      "source": [
        "brain_locs=one.load_dataset(eid, 'electrodeSites.brainLocationIds_ccf_2017.npy')"
      ],
      "metadata": {
        "colab": {
          "base_uri": "https://localhost:8080/"
        },
        "id": "LNuqoJQoBBwI",
        "outputId": "c3c17c37-30c6-4dba-8282-37c43c07746d"
      },
      "execution_count": 26,
      "outputs": [
        {
          "output_type": "stream",
          "name": "stderr",
          "text": [
            "/root/Downloads/ONE/openalyx.internationalbrainlab.org/churchlandlab_ucla/Subjects/UCLA037/2022-02-02/001/alf/probe00/electrodeSites.brainLocationIds_ccf_2017.npy: 100%|██████████| 3.20k/3.20k [00:00<00:00, 12.9kB/s]\n"
          ]
        }
      ]
    },
    {
      "cell_type": "code",
      "source": [
        "brain_locs.shape"
      ],
      "metadata": {
        "colab": {
          "base_uri": "https://localhost:8080/"
        },
        "id": "6Kp5EyubBQZh",
        "outputId": "0b9e7b03-d1f6-491d-f957-74167b90d2da"
      },
      "execution_count": 27,
      "outputs": [
        {
          "output_type": "execute_result",
          "data": {
            "text/plain": [
              "(384,)"
            ]
          },
          "metadata": {},
          "execution_count": 27
        }
      ]
    },
    {
      "cell_type": "code",
      "source": [
        "probe_label = probe_insertions[0]['label']\n",
        "one.list_datasets(eid, collection=f'alf/{probe_label}')"
      ],
      "metadata": {
        "colab": {
          "base_uri": "https://localhost:8080/"
        },
        "id": "alvVI2TVGQ26",
        "outputId": "08af5cad-d5a6-4dd8-fb71-b4ad603a4d06"
      },
      "execution_count": 36,
      "outputs": [
        {
          "output_type": "execute_result",
          "data": {
            "text/plain": [
              "['alf/probe00/electrodeSites.brainLocationIds_ccf_2017.npy',\n",
              " 'alf/probe00/electrodeSites.localCoordinates.npy',\n",
              " 'alf/probe00/electrodeSites.mlapdv.npy']"
            ]
          },
          "metadata": {},
          "execution_count": 36
        }
      ]
    },
    {
      "cell_type": "code",
      "source": [
        "brain_locs=one.load_dataset(eid, 'alf/probe00/electrodeSites.brainLocationIds_ccf_2017.npy')\n",
        "brain_locs.shape"
      ],
      "metadata": {
        "colab": {
          "base_uri": "https://localhost:8080/"
        },
        "id": "J4TBvLGVGbIE",
        "outputId": "71e69060-6cf2-4d61-eae0-b643b18bc7c6"
      },
      "execution_count": 41,
      "outputs": [
        {
          "output_type": "execute_result",
          "data": {
            "text/plain": [
              "(384,)"
            ]
          },
          "metadata": {},
          "execution_count": 41
        }
      ]
    },
    {
      "cell_type": "code",
      "source": [
        "!pip install ibllib\n",
        "!pip install brainbox"
      ],
      "metadata": {
        "colab": {
          "base_uri": "https://localhost:8080/",
          "height": 1000
        },
        "id": "jx3GgrY9HZjt",
        "outputId": "176a6ad1-04dc-49e3-c30d-9ff7a963ba4f"
      },
      "execution_count": 44,
      "outputs": [
        {
          "output_type": "stream",
          "name": "stdout",
          "text": [
            "Looking in indexes: https://pypi.org/simple, https://us-python.pkg.dev/colab-wheels/public/simple/\n",
            "Collecting ibllib\n",
            "  Downloading ibllib-2.11.1-py3-none-any.whl (8.6 MB)\n",
            "\u001b[K     |████████████████████████████████| 8.6 MB 13.6 MB/s \n",
            "\u001b[?25hCollecting phylib>=2.4\n",
            "  Downloading phylib-2.4.1-py2.py3-none-any.whl (96 kB)\n",
            "\u001b[K     |████████████████████████████████| 96 kB 5.1 MB/s \n",
            "\u001b[?25hRequirement already satisfied: iblutil in /usr/local/lib/python3.7/dist-packages (from ibllib) (1.3.1)\n",
            "Collecting numpy<=1.21,>=1.18\n",
            "  Downloading numpy-1.21.0-cp37-cp37m-manylinux_2_12_x86_64.manylinux2010_x86_64.whl (15.7 MB)\n",
            "\u001b[K     |████████████████████████████████| 15.7 MB 59.0 MB/s \n",
            "\u001b[?25hCollecting jupyterlab>=1.0\n",
            "  Downloading jupyterlab-3.4.8-py3-none-any.whl (8.8 MB)\n",
            "\u001b[K     |████████████████████████████████| 8.8 MB 46.0 MB/s \n",
            "\u001b[?25hRequirement already satisfied: numba in /usr/local/lib/python3.7/dist-packages (from ibllib) (0.56.2)\n",
            "Collecting mtscomp>=1.0.1\n",
            "  Downloading mtscomp-1.0.2-py2.py3-none-any.whl (16 kB)\n",
            "Requirement already satisfied: click>=7.0.0 in /usr/local/lib/python3.7/dist-packages (from ibllib) (7.1.2)\n",
            "Requirement already satisfied: pytest in /usr/local/lib/python3.7/dist-packages (from ibllib) (3.6.4)\n",
            "Collecting jupyter>=1.0\n",
            "  Downloading jupyter-1.0.0-py2.py3-none-any.whl (2.7 kB)\n",
            "Requirement already satisfied: boto3 in /usr/local/lib/python3.7/dist-packages (from ibllib) (1.24.86)\n",
            "Requirement already satisfied: flake8>=3.7.8 in /usr/local/lib/python3.7/dist-packages (from ibllib) (5.0.4)\n",
            "Requirement already satisfied: scipy>=1.3.0 in /usr/local/lib/python3.7/dist-packages (from ibllib) (1.7.3)\n",
            "Requirement already satisfied: ONE-api>=1.8.1 in /usr/local/lib/python3.7/dist-packages (from ibllib) (1.16.0)\n",
            "Requirement already satisfied: scikit-learn>=0.22.1 in /usr/local/lib/python3.7/dist-packages (from ibllib) (1.0.2)\n",
            "Requirement already satisfied: colorlog>=4.0.2 in /usr/local/lib/python3.7/dist-packages (from ibllib) (6.7.0)\n",
            "Requirement already satisfied: matplotlib>=3.0.3 in /usr/local/lib/python3.7/dist-packages (from ibllib) (3.2.2)\n",
            "Requirement already satisfied: requests>=2.22.0 in /usr/local/lib/python3.7/dist-packages (from ibllib) (2.23.0)\n",
            "Collecting globus-sdk==3.2.1\n",
            "  Downloading globus_sdk-3.2.1-py3-none-any.whl (131 kB)\n",
            "\u001b[K     |████████████████████████████████| 131 kB 51.5 MB/s \n",
            "\u001b[?25hRequirement already satisfied: graphviz in /usr/local/lib/python3.7/dist-packages (from ibllib) (0.10.1)\n",
            "Requirement already satisfied: seaborn>=0.9.0 in /usr/local/lib/python3.7/dist-packages (from ibllib) (0.11.2)\n",
            "Requirement already satisfied: pyarrow in /usr/local/lib/python3.7/dist-packages (from ibllib) (6.0.1)\n",
            "Collecting pynrrd>=0.4.0\n",
            "  Downloading pynrrd-0.4.3-py2.py3-none-any.whl (18 kB)\n",
            "Requirement already satisfied: pandas>=0.24.2 in /usr/local/lib/python3.7/dist-packages (from ibllib) (1.3.5)\n",
            "Requirement already satisfied: opencv-python in /usr/local/lib/python3.7/dist-packages (from ibllib) (4.6.0.66)\n",
            "Requirement already satisfied: tqdm>=4.32.1 in /usr/local/lib/python3.7/dist-packages (from ibllib) (4.64.1)\n",
            "Collecting pyjwt[crypto]<3.0.0,>=2.0.0\n",
            "  Downloading PyJWT-2.5.0-py3-none-any.whl (20 kB)\n",
            "Collecting cryptography!=3.4.0,>=3.3.1\n",
            "  Downloading cryptography-38.0.1-cp36-abi3-manylinux_2_24_x86_64.whl (4.0 MB)\n",
            "\u001b[K     |████████████████████████████████| 4.0 MB 52.8 MB/s \n",
            "\u001b[?25hRequirement already satisfied: cffi>=1.12 in /usr/local/lib/python3.7/dist-packages (from cryptography!=3.4.0,>=3.3.1->globus-sdk==3.2.1->ibllib) (1.15.1)\n",
            "Requirement already satisfied: pycparser in /usr/local/lib/python3.7/dist-packages (from cffi>=1.12->cryptography!=3.4.0,>=3.3.1->globus-sdk==3.2.1->ibllib) (2.21)\n",
            "Requirement already satisfied: pyflakes<2.6.0,>=2.5.0 in /usr/local/lib/python3.7/dist-packages (from flake8>=3.7.8->ibllib) (2.5.0)\n",
            "Requirement already satisfied: pycodestyle<2.10.0,>=2.9.0 in /usr/local/lib/python3.7/dist-packages (from flake8>=3.7.8->ibllib) (2.9.1)\n",
            "Requirement already satisfied: mccabe<0.8.0,>=0.7.0 in /usr/local/lib/python3.7/dist-packages (from flake8>=3.7.8->ibllib) (0.7.0)\n",
            "Requirement already satisfied: importlib-metadata<4.3,>=1.1.0 in /usr/local/lib/python3.7/dist-packages (from flake8>=3.7.8->ibllib) (4.2.0)\n",
            "Requirement already satisfied: typing-extensions>=3.6.4 in /usr/local/lib/python3.7/dist-packages (from importlib-metadata<4.3,>=1.1.0->flake8>=3.7.8->ibllib) (4.1.1)\n",
            "Requirement already satisfied: zipp>=0.5 in /usr/local/lib/python3.7/dist-packages (from importlib-metadata<4.3,>=1.1.0->flake8>=3.7.8->ibllib) (3.8.1)\n",
            "Requirement already satisfied: jupyter-console in /usr/local/lib/python3.7/dist-packages (from jupyter>=1.0->ibllib) (6.1.0)\n",
            "Requirement already satisfied: notebook in /usr/local/lib/python3.7/dist-packages (from jupyter>=1.0->ibllib) (5.3.1)\n",
            "Requirement already satisfied: nbconvert in /usr/local/lib/python3.7/dist-packages (from jupyter>=1.0->ibllib) (5.6.1)\n",
            "Requirement already satisfied: ipywidgets in /usr/local/lib/python3.7/dist-packages (from jupyter>=1.0->ibllib) (7.7.1)\n",
            "Collecting qtconsole\n",
            "  Downloading qtconsole-5.3.2-py3-none-any.whl (120 kB)\n",
            "\u001b[K     |████████████████████████████████| 120 kB 52.7 MB/s \n",
            "\u001b[?25hRequirement already satisfied: ipykernel in /usr/local/lib/python3.7/dist-packages (from jupyter>=1.0->ibllib) (5.3.4)\n",
            "Collecting jupyterlab-server~=2.10\n",
            "  Downloading jupyterlab_server-2.15.2-py3-none-any.whl (54 kB)\n",
            "\u001b[K     |████████████████████████████████| 54 kB 2.1 MB/s \n",
            "\u001b[?25hRequirement already satisfied: jinja2>=2.1 in /usr/local/lib/python3.7/dist-packages (from jupyterlab>=1.0->ibllib) (2.11.3)\n",
            "Requirement already satisfied: ipython in /usr/local/lib/python3.7/dist-packages (from jupyterlab>=1.0->ibllib) (7.9.0)\n",
            "Requirement already satisfied: jupyter-core in /usr/local/lib/python3.7/dist-packages (from jupyterlab>=1.0->ibllib) (4.11.1)\n",
            "Requirement already satisfied: tomli in /usr/local/lib/python3.7/dist-packages (from jupyterlab>=1.0->ibllib) (2.0.1)\n",
            "Collecting jupyter-server~=1.16\n",
            "  Downloading jupyter_server-1.19.1-py3-none-any.whl (346 kB)\n",
            "\u001b[K     |████████████████████████████████| 346 kB 45.4 MB/s \n",
            "\u001b[?25hRequirement already satisfied: packaging in /usr/local/lib/python3.7/dist-packages (from jupyterlab>=1.0->ibllib) (21.3)\n",
            "Collecting nbclassic\n",
            "  Downloading nbclassic-0.4.4-py3-none-any.whl (9.8 MB)\n",
            "\u001b[K     |████████████████████████████████| 9.8 MB 51.3 MB/s \n",
            "\u001b[?25hCollecting tornado>=6.1.0\n",
            "  Downloading tornado-6.2-cp37-abi3-manylinux_2_5_x86_64.manylinux1_x86_64.manylinux_2_17_x86_64.manylinux2014_x86_64.whl (423 kB)\n",
            "\u001b[K     |████████████████████████████████| 423 kB 68.5 MB/s \n",
            "\u001b[?25hRequirement already satisfied: MarkupSafe>=0.23 in /usr/local/lib/python3.7/dist-packages (from jinja2>=2.1->jupyterlab>=1.0->ibllib) (2.0.1)\n",
            "Collecting nbconvert\n",
            "  Downloading nbconvert-7.1.0-py3-none-any.whl (272 kB)\n",
            "\u001b[K     |████████████████████████████████| 272 kB 69.8 MB/s \n",
            "\u001b[?25hRequirement already satisfied: nbformat>=5.2.0 in /usr/local/lib/python3.7/dist-packages (from jupyter-server~=1.16->jupyterlab>=1.0->ibllib) (5.4.0)\n",
            "Requirement already satisfied: pyzmq>=17 in /usr/local/lib/python3.7/dist-packages (from jupyter-server~=1.16->jupyterlab>=1.0->ibllib) (23.2.1)\n",
            "Collecting websocket-client\n",
            "  Downloading websocket_client-1.4.1-py3-none-any.whl (55 kB)\n",
            "\u001b[K     |████████████████████████████████| 55 kB 3.6 MB/s \n",
            "\u001b[?25hCollecting argon2-cffi\n",
            "  Downloading argon2_cffi-21.3.0-py3-none-any.whl (14 kB)\n",
            "Collecting anyio<4,>=3.1.0\n",
            "  Downloading anyio-3.6.1-py3-none-any.whl (80 kB)\n",
            "\u001b[K     |████████████████████████████████| 80 kB 10.0 MB/s \n",
            "\u001b[?25hCollecting prometheus-client\n",
            "  Downloading prometheus_client-0.14.1-py3-none-any.whl (59 kB)\n",
            "\u001b[K     |████████████████████████████████| 59 kB 6.8 MB/s \n",
            "\u001b[?25hRequirement already satisfied: Send2Trash in /usr/local/lib/python3.7/dist-packages (from jupyter-server~=1.16->jupyterlab>=1.0->ibllib) (1.8.0)\n",
            "Requirement already satisfied: terminado>=0.8.3 in /usr/local/lib/python3.7/dist-packages (from jupyter-server~=1.16->jupyterlab>=1.0->ibllib) (0.13.3)\n",
            "Requirement already satisfied: jupyter-client>=6.1.12 in /usr/local/lib/python3.7/dist-packages (from jupyter-server~=1.16->jupyterlab>=1.0->ibllib) (6.1.12)\n",
            "Requirement already satisfied: traitlets>=5.1 in /usr/local/lib/python3.7/dist-packages (from jupyter-server~=1.16->jupyterlab>=1.0->ibllib) (5.1.1)\n",
            "Collecting sniffio>=1.1\n",
            "  Downloading sniffio-1.3.0-py3-none-any.whl (10 kB)\n",
            "Requirement already satisfied: idna>=2.8 in /usr/local/lib/python3.7/dist-packages (from anyio<4,>=3.1.0->jupyter-server~=1.16->jupyterlab>=1.0->ibllib) (2.10)\n",
            "Requirement already satisfied: python-dateutil>=2.1 in /usr/local/lib/python3.7/dist-packages (from jupyter-client>=6.1.12->jupyter-server~=1.16->jupyterlab>=1.0->ibllib) (2.8.2)\n",
            "Requirement already satisfied: jsonschema>=3.0.1 in /usr/local/lib/python3.7/dist-packages (from jupyterlab-server~=2.10->jupyterlab>=1.0->ibllib) (4.3.3)\n",
            "Collecting jinja2>=2.1\n",
            "  Downloading Jinja2-3.1.2-py3-none-any.whl (133 kB)\n",
            "\u001b[K     |████████████████████████████████| 133 kB 55.7 MB/s \n",
            "\u001b[?25hCollecting json5\n",
            "  Downloading json5-0.9.10-py2.py3-none-any.whl (19 kB)\n",
            "Requirement already satisfied: babel in /usr/local/lib/python3.7/dist-packages (from jupyterlab-server~=2.10->jupyterlab>=1.0->ibllib) (2.10.3)\n",
            "Requirement already satisfied: attrs>=17.4.0 in /usr/local/lib/python3.7/dist-packages (from jsonschema>=3.0.1->jupyterlab-server~=2.10->jupyterlab>=1.0->ibllib) (22.1.0)\n",
            "Requirement already satisfied: pyrsistent!=0.17.0,!=0.17.1,!=0.17.2,>=0.14.0 in /usr/local/lib/python3.7/dist-packages (from jsonschema>=3.0.1->jupyterlab-server~=2.10->jupyterlab>=1.0->ibllib) (0.18.1)\n",
            "Requirement already satisfied: importlib-resources>=1.4.0 in /usr/local/lib/python3.7/dist-packages (from jsonschema>=3.0.1->jupyterlab-server~=2.10->jupyterlab>=1.0->ibllib) (5.9.0)\n",
            "Requirement already satisfied: kiwisolver>=1.0.1 in /usr/local/lib/python3.7/dist-packages (from matplotlib>=3.0.3->ibllib) (1.4.4)\n",
            "Requirement already satisfied: pyparsing!=2.0.4,!=2.1.2,!=2.1.6,>=2.0.1 in /usr/local/lib/python3.7/dist-packages (from matplotlib>=3.0.3->ibllib) (3.0.9)\n",
            "Requirement already satisfied: cycler>=0.10 in /usr/local/lib/python3.7/dist-packages (from matplotlib>=3.0.3->ibllib) (0.11.0)\n",
            "Requirement already satisfied: pygments>=2.4.1 in /usr/local/lib/python3.7/dist-packages (from nbconvert->jupyter>=1.0->ibllib) (2.6.1)\n",
            "Collecting mistune<3,>=2.0.3\n",
            "  Downloading mistune-2.0.4-py2.py3-none-any.whl (24 kB)\n",
            "Requirement already satisfied: pandocfilters>=1.4.1 in /usr/local/lib/python3.7/dist-packages (from nbconvert->jupyter>=1.0->ibllib) (1.5.0)\n",
            "Requirement already satisfied: defusedxml in /usr/local/lib/python3.7/dist-packages (from nbconvert->jupyter>=1.0->ibllib) (0.7.1)\n",
            "Collecting tinycss2\n",
            "  Downloading tinycss2-1.1.1-py3-none-any.whl (21 kB)\n",
            "Requirement already satisfied: beautifulsoup4 in /usr/local/lib/python3.7/dist-packages (from nbconvert->jupyter>=1.0->ibllib) (4.6.3)\n",
            "Collecting jupyterlab-pygments\n",
            "  Downloading jupyterlab_pygments-0.2.2-py2.py3-none-any.whl (21 kB)\n",
            "Requirement already satisfied: bleach in /usr/local/lib/python3.7/dist-packages (from nbconvert->jupyter>=1.0->ibllib) (5.0.1)\n",
            "Collecting nbclient>=0.5.0\n",
            "  Downloading nbclient-0.6.8-py3-none-any.whl (71 kB)\n",
            "\u001b[K     |████████████████████████████████| 71 kB 112 kB/s \n",
            "\u001b[?25hCollecting traitlets>=5.1\n",
            "  Downloading traitlets-5.4.0-py3-none-any.whl (107 kB)\n",
            "\u001b[K     |████████████████████████████████| 107 kB 73.6 MB/s \n",
            "\u001b[?25hCollecting nest-asyncio\n",
            "  Downloading nest_asyncio-1.5.6-py3-none-any.whl (5.2 kB)\n",
            "Requirement already satisfied: fastjsonschema in /usr/local/lib/python3.7/dist-packages (from nbformat>=5.2.0->jupyter-server~=1.16->jupyterlab>=1.0->ibllib) (2.16.1)\n",
            "Requirement already satisfied: ipython-genutils in /usr/local/lib/python3.7/dist-packages (from notebook->jupyter>=1.0->ibllib) (0.2.0)\n",
            "Requirement already satisfied: pyyaml in /usr/local/lib/python3.7/dist-packages (from ONE-api>=1.8.1->ibllib) (6.0)\n",
            "Requirement already satisfied: pytz>=2017.3 in /usr/local/lib/python3.7/dist-packages (from pandas>=0.24.2->ibllib) (2022.2.1)\n",
            "Requirement already satisfied: dask in /usr/local/lib/python3.7/dist-packages (from phylib>=2.4->ibllib) (2022.2.0)\n",
            "Requirement already satisfied: toolz in /usr/local/lib/python3.7/dist-packages (from phylib>=2.4->ibllib) (0.12.0)\n",
            "Requirement already satisfied: joblib in /usr/local/lib/python3.7/dist-packages (from phylib>=2.4->ibllib) (1.1.0)\n",
            "Collecting types-cryptography>=3.3.21\n",
            "  Downloading types_cryptography-3.3.23-py3-none-any.whl (30 kB)\n",
            "Requirement already satisfied: six>=1.5 in /usr/local/lib/python3.7/dist-packages (from python-dateutil>=2.1->jupyter-client>=6.1.12->jupyter-server~=1.16->jupyterlab>=1.0->ibllib) (1.15.0)\n",
            "Requirement already satisfied: urllib3!=1.25.0,!=1.25.1,<1.26,>=1.21.1 in /usr/local/lib/python3.7/dist-packages (from requests>=2.22.0->ibllib) (1.25.11)\n",
            "Requirement already satisfied: certifi>=2017.4.17 in /usr/local/lib/python3.7/dist-packages (from requests>=2.22.0->ibllib) (2022.6.15)\n",
            "Requirement already satisfied: chardet<4,>=3.0.2 in /usr/local/lib/python3.7/dist-packages (from requests>=2.22.0->ibllib) (3.0.4)\n",
            "Requirement already satisfied: threadpoolctl>=2.0.0 in /usr/local/lib/python3.7/dist-packages (from scikit-learn>=0.22.1->ibllib) (3.1.0)\n",
            "Requirement already satisfied: ptyprocess in /usr/local/lib/python3.7/dist-packages (from terminado>=0.8.3->jupyter-server~=1.16->jupyterlab>=1.0->ibllib) (0.7.0)\n",
            "Collecting argon2-cffi-bindings\n",
            "  Downloading argon2_cffi_bindings-21.2.0-cp36-abi3-manylinux_2_17_x86_64.manylinux2014_x86_64.whl (86 kB)\n",
            "\u001b[K     |████████████████████████████████| 86 kB 4.7 MB/s \n",
            "\u001b[?25hRequirement already satisfied: webencodings in /usr/local/lib/python3.7/dist-packages (from bleach->nbconvert->jupyter>=1.0->ibllib) (0.5.1)\n",
            "Requirement already satisfied: botocore<1.28.0,>=1.27.86 in /usr/local/lib/python3.7/dist-packages (from boto3->ibllib) (1.27.86)\n",
            "Requirement already satisfied: s3transfer<0.7.0,>=0.6.0 in /usr/local/lib/python3.7/dist-packages (from boto3->ibllib) (0.6.0)\n",
            "Requirement already satisfied: jmespath<2.0.0,>=0.7.1 in /usr/local/lib/python3.7/dist-packages (from boto3->ibllib) (1.0.1)\n",
            "Requirement already satisfied: partd>=0.3.10 in /usr/local/lib/python3.7/dist-packages (from dask->phylib>=2.4->ibllib) (1.3.0)\n",
            "Requirement already satisfied: fsspec>=0.6.0 in /usr/local/lib/python3.7/dist-packages (from dask->phylib>=2.4->ibllib) (2022.8.2)\n",
            "Requirement already satisfied: cloudpickle>=1.1.1 in /usr/local/lib/python3.7/dist-packages (from dask->phylib>=2.4->ibllib) (1.5.0)\n",
            "Requirement already satisfied: locket in /usr/local/lib/python3.7/dist-packages (from partd>=0.3.10->dask->phylib>=2.4->ibllib) (1.0.0)\n",
            "Requirement already satisfied: pickleshare in /usr/local/lib/python3.7/dist-packages (from ipython->jupyterlab>=1.0->ibllib) (0.7.5)\n",
            "Requirement already satisfied: setuptools>=18.5 in /usr/local/lib/python3.7/dist-packages (from ipython->jupyterlab>=1.0->ibllib) (57.4.0)\n",
            "Requirement already satisfied: pexpect in /usr/local/lib/python3.7/dist-packages (from ipython->jupyterlab>=1.0->ibllib) (4.8.0)\n",
            "Requirement already satisfied: prompt-toolkit<2.1.0,>=2.0.0 in /usr/local/lib/python3.7/dist-packages (from ipython->jupyterlab>=1.0->ibllib) (2.0.10)\n",
            "Collecting jedi>=0.10\n",
            "  Downloading jedi-0.18.1-py2.py3-none-any.whl (1.6 MB)\n",
            "\u001b[K     |████████████████████████████████| 1.6 MB 52.7 MB/s \n",
            "\u001b[?25hRequirement already satisfied: decorator in /usr/local/lib/python3.7/dist-packages (from ipython->jupyterlab>=1.0->ibllib) (4.4.2)\n",
            "Requirement already satisfied: backcall in /usr/local/lib/python3.7/dist-packages (from ipython->jupyterlab>=1.0->ibllib) (0.2.0)\n",
            "Requirement already satisfied: parso<0.9.0,>=0.8.0 in /usr/local/lib/python3.7/dist-packages (from jedi>=0.10->ipython->jupyterlab>=1.0->ibllib) (0.8.3)\n",
            "Requirement already satisfied: wcwidth in /usr/local/lib/python3.7/dist-packages (from prompt-toolkit<2.1.0,>=2.0.0->ipython->jupyterlab>=1.0->ibllib) (0.2.5)\n",
            "Requirement already satisfied: jupyterlab-widgets>=1.0.0 in /usr/local/lib/python3.7/dist-packages (from ipywidgets->jupyter>=1.0->ibllib) (3.0.3)\n",
            "Requirement already satisfied: widgetsnbextension~=3.6.0 in /usr/local/lib/python3.7/dist-packages (from ipywidgets->jupyter>=1.0->ibllib) (3.6.1)\n",
            "Collecting notebook-shim>=0.1.0\n",
            "  Downloading notebook_shim-0.1.0-py3-none-any.whl (13 kB)\n",
            "Requirement already satisfied: llvmlite<0.40,>=0.39.0dev0 in /usr/local/lib/python3.7/dist-packages (from numba->ibllib) (0.39.1)\n",
            "Requirement already satisfied: more-itertools>=4.0.0 in /usr/local/lib/python3.7/dist-packages (from pytest->ibllib) (8.14.0)\n",
            "Requirement already satisfied: py>=1.5.0 in /usr/local/lib/python3.7/dist-packages (from pytest->ibllib) (1.11.0)\n",
            "Requirement already satisfied: atomicwrites>=1.0 in /usr/local/lib/python3.7/dist-packages (from pytest->ibllib) (1.4.1)\n",
            "Requirement already satisfied: pluggy<0.8,>=0.5 in /usr/local/lib/python3.7/dist-packages (from pytest->ibllib) (0.7.1)\n",
            "Collecting qtpy>=2.0.1\n",
            "  Downloading QtPy-2.2.1-py3-none-any.whl (82 kB)\n",
            "\u001b[K     |████████████████████████████████| 82 kB 821 kB/s \n",
            "\u001b[?25hInstalling collected packages: traitlets, tornado, nest-asyncio, jedi, tinycss2, sniffio, nbclient, mistune, jupyterlab-pygments, jinja2, argon2-cffi-bindings, websocket-client, prometheus-client, nbconvert, argon2-cffi, anyio, numpy, jupyter-server, types-cryptography, qtpy, pyjwt, notebook-shim, json5, cryptography, qtconsole, nbclassic, mtscomp, jupyterlab-server, pynrrd, phylib, jupyterlab, jupyter, globus-sdk, ibllib\n",
            "  Attempting uninstall: traitlets\n",
            "    Found existing installation: traitlets 5.1.1\n",
            "    Uninstalling traitlets-5.1.1:\n",
            "      Successfully uninstalled traitlets-5.1.1\n",
            "  Attempting uninstall: tornado\n",
            "    Found existing installation: tornado 5.1.1\n",
            "    Uninstalling tornado-5.1.1:\n",
            "      Successfully uninstalled tornado-5.1.1\n",
            "  Attempting uninstall: mistune\n",
            "    Found existing installation: mistune 0.8.4\n",
            "    Uninstalling mistune-0.8.4:\n",
            "      Successfully uninstalled mistune-0.8.4\n",
            "  Attempting uninstall: jinja2\n",
            "    Found existing installation: Jinja2 2.11.3\n",
            "    Uninstalling Jinja2-2.11.3:\n",
            "      Successfully uninstalled Jinja2-2.11.3\n",
            "  Attempting uninstall: nbconvert\n",
            "    Found existing installation: nbconvert 5.6.1\n",
            "    Uninstalling nbconvert-5.6.1:\n",
            "      Successfully uninstalled nbconvert-5.6.1\n",
            "  Attempting uninstall: numpy\n",
            "    Found existing installation: numpy 1.21.6\n",
            "    Uninstalling numpy-1.21.6:\n",
            "      Successfully uninstalled numpy-1.21.6\n",
            "\u001b[31mERROR: pip's dependency resolver does not currently take into account all the packages that are installed. This behaviour is the source of the following dependency conflicts.\n",
            "gym 0.25.2 requires importlib-metadata>=4.8.0; python_version < \"3.10\", but you have importlib-metadata 4.2.0 which is incompatible.\n",
            "google-colab 1.0.0 requires tornado~=5.1.0, but you have tornado 6.2 which is incompatible.\n",
            "flask 1.1.4 requires Jinja2<3.0,>=2.10.1, but you have jinja2 3.1.2 which is incompatible.\u001b[0m\n",
            "Successfully installed anyio-3.6.1 argon2-cffi-21.3.0 argon2-cffi-bindings-21.2.0 cryptography-38.0.1 globus-sdk-3.2.1 ibllib-2.11.1 jedi-0.18.1 jinja2-3.1.2 json5-0.9.10 jupyter-1.0.0 jupyter-server-1.19.1 jupyterlab-3.4.8 jupyterlab-pygments-0.2.2 jupyterlab-server-2.15.2 mistune-2.0.4 mtscomp-1.0.2 nbclassic-0.4.4 nbclient-0.6.8 nbconvert-7.1.0 nest-asyncio-1.5.6 notebook-shim-0.1.0 numpy-1.21.0 phylib-2.4.1 prometheus-client-0.14.1 pyjwt-2.5.0 pynrrd-0.4.3 qtconsole-5.3.2 qtpy-2.2.1 sniffio-1.3.0 tinycss2-1.1.1 tornado-6.2 traitlets-5.4.0 types-cryptography-3.3.23 websocket-client-1.4.1\n"
          ]
        },
        {
          "output_type": "display_data",
          "data": {
            "application/vnd.colab-display-data+json": {
              "pip_warning": {
                "packages": [
                  "numpy",
                  "tornado"
                ]
              }
            }
          },
          "metadata": {}
        },
        {
          "output_type": "stream",
          "name": "stdout",
          "text": [
            "Looking in indexes: https://pypi.org/simple, https://us-python.pkg.dev/colab-wheels/public/simple/\n",
            "\u001b[31mERROR: Could not find a version that satisfies the requirement brainbox (from versions: none)\u001b[0m\n",
            "\u001b[31mERROR: No matching distribution found for brainbox\u001b[0m\n"
          ]
        }
      ]
    }
  ]
}