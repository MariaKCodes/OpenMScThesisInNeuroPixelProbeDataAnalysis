{
  "nbformat": 4,
  "nbformat_minor": 0,
  "metadata": {
    "colab": {
      "provenance": [],
      "collapsed_sections": [],
      "authorship_tag": "ABX9TyPxswvoPEUy61PeWF1aN6tw",
      "include_colab_link": true
    },
    "kernelspec": {
      "name": "python3",
      "display_name": "Python 3"
    },
    "language_info": {
      "name": "python"
    }
  },
  "cells": [
    {
      "cell_type": "markdown",
      "metadata": {
        "id": "view-in-github",
        "colab_type": "text"
      },
      "source": [
        "<a href=\"https://colab.research.google.com/github/MariaKCodes/OpenMScThesisInNeuroPixelProbeDataAnalysis/blob/main/AllenSDKNotebook.ipynb\" target=\"_parent\"><img src=\"https://colab.research.google.com/assets/colab-badge.svg\" alt=\"Open In Colab\"/></a>"
      ]
    },
    {
      "cell_type": "code",
      "source": [
        "!pip install allensdk"
      ],
      "metadata": {
        "colab": {
          "base_uri": "https://localhost:8080/"
        },
        "id": "vyeTXs5G5UCR",
        "outputId": "c5a7ad1e-ebe6-4026-d0b1-b9d525dc1fcb"
      },
      "execution_count": 6,
      "outputs": [
        {
          "output_type": "stream",
          "name": "stdout",
          "text": [
            "Looking in indexes: https://pypi.org/simple, https://us-python.pkg.dev/colab-wheels/public/simple/\n",
            "Requirement already satisfied: allensdk in /usr/local/lib/python3.7/dist-packages (2.13.6)\n",
            "Requirement already satisfied: scikit-image<0.17.0,>=0.14.0 in /usr/local/lib/python3.7/dist-packages (from allensdk) (0.16.2)\n",
            "Requirement already satisfied: requests-toolbelt<1.0.0 in /usr/local/lib/python3.7/dist-packages (from allensdk) (0.10.0)\n",
            "Requirement already satisfied: simplejson<4.0.0,>=3.10.0 in /usr/local/lib/python3.7/dist-packages (from allensdk) (3.17.6)\n",
            "Requirement already satisfied: seaborn<1.0.0 in /usr/local/lib/python3.7/dist-packages (from allensdk) (0.11.2)\n",
            "Requirement already satisfied: xarray<0.16.0 in /usr/local/lib/python3.7/dist-packages (from allensdk) (0.15.1)\n",
            "Requirement already satisfied: simpleitk<3.0.0,>=2.0.2 in /usr/local/lib/python3.7/dist-packages (from allensdk) (2.2.0)\n",
            "Requirement already satisfied: matplotlib<3.4.3,>=1.4.3 in /usr/local/lib/python3.7/dist-packages (from allensdk) (3.2.2)\n",
            "Requirement already satisfied: tables<3.7.0,>=3.6.0 in /usr/local/lib/python3.7/dist-packages (from allensdk) (3.6.1)\n",
            "Requirement already satisfied: argschema<4.0.0,>=3.0.1 in /usr/local/lib/python3.7/dist-packages (from allensdk) (3.0.4)\n",
            "Requirement already satisfied: sqlalchemy in /usr/local/lib/python3.7/dist-packages (from allensdk) (1.4.41)\n",
            "Requirement already satisfied: semver in /usr/local/lib/python3.7/dist-packages (from allensdk) (2.13.0)\n",
            "Requirement already satisfied: scikit-build<1.0.0 in /usr/local/lib/python3.7/dist-packages (from allensdk) (0.15.0)\n",
            "Requirement already satisfied: tqdm>=4.27 in /usr/local/lib/python3.7/dist-packages (from allensdk) (4.64.1)\n",
            "Requirement already satisfied: cachetools<5.0.0,>=4.2.1 in /usr/local/lib/python3.7/dist-packages (from allensdk) (4.2.4)\n",
            "Requirement already satisfied: requests<3.0.0 in /usr/local/lib/python3.7/dist-packages (from allensdk) (2.23.0)\n",
            "Requirement already satisfied: six<2.0.0,>=1.9.0 in /usr/local/lib/python3.7/dist-packages (from allensdk) (1.15.0)\n",
            "Requirement already satisfied: statsmodels<=0.13.0 in /usr/local/lib/python3.7/dist-packages (from allensdk) (0.12.2)\n",
            "Requirement already satisfied: jinja2>=3.0.0 in /usr/local/lib/python3.7/dist-packages (from allensdk) (3.1.2)\n",
            "Requirement already satisfied: aiohttp==3.7.4 in /usr/local/lib/python3.7/dist-packages (from allensdk) (3.7.4)\n",
            "Requirement already satisfied: numpy in /usr/local/lib/python3.7/dist-packages (from allensdk) (1.21.6)\n",
            "Requirement already satisfied: pandas>=1.1.5 in /usr/local/lib/python3.7/dist-packages (from allensdk) (1.3.5)\n",
            "Requirement already satisfied: future<1.0.0,>=0.14.3 in /usr/local/lib/python3.7/dist-packages (from allensdk) (0.16.0)\n",
            "Requirement already satisfied: h5py in /usr/local/lib/python3.7/dist-packages (from allensdk) (3.1.0)\n",
            "Requirement already satisfied: ndx-events<=0.2.0 in /usr/local/lib/python3.7/dist-packages (from allensdk) (0.2.0)\n",
            "Requirement already satisfied: boto3==1.17.21 in /usr/local/lib/python3.7/dist-packages (from allensdk) (1.17.21)\n",
            "Requirement already satisfied: psycopg2-binary<3.0.0,>=2.7 in /usr/local/lib/python3.7/dist-packages (from allensdk) (2.9.4)\n",
            "Requirement already satisfied: pynwb in /usr/local/lib/python3.7/dist-packages (from allensdk) (2.1.0)\n",
            "Requirement already satisfied: nest-asyncio in /usr/local/lib/python3.7/dist-packages (from allensdk) (1.5.6)\n",
            "Requirement already satisfied: hdmf>=2.5.8 in /usr/local/lib/python3.7/dist-packages (from allensdk) (3.4.6)\n",
            "Requirement already satisfied: scipy<2.0.0,>=1.4.0 in /usr/local/lib/python3.7/dist-packages (from allensdk) (1.7.3)\n",
            "Requirement already satisfied: pynrrd<1.0.0,>=0.2.1 in /usr/local/lib/python3.7/dist-packages (from allensdk) (0.4.3)\n",
            "Requirement already satisfied: glymur==0.8.19 in /usr/local/lib/python3.7/dist-packages (from allensdk) (0.8.19)\n",
            "Requirement already satisfied: async-timeout<4.0,>=3.0 in /usr/local/lib/python3.7/dist-packages (from aiohttp==3.7.4->allensdk) (3.0.1)\n",
            "Requirement already satisfied: attrs>=17.3.0 in /usr/local/lib/python3.7/dist-packages (from aiohttp==3.7.4->allensdk) (22.1.0)\n",
            "Requirement already satisfied: multidict<7.0,>=4.5 in /usr/local/lib/python3.7/dist-packages (from aiohttp==3.7.4->allensdk) (6.0.2)\n",
            "Requirement already satisfied: yarl<2.0,>=1.0 in /usr/local/lib/python3.7/dist-packages (from aiohttp==3.7.4->allensdk) (1.8.1)\n",
            "Requirement already satisfied: chardet<4.0,>=2.0 in /usr/local/lib/python3.7/dist-packages (from aiohttp==3.7.4->allensdk) (3.0.4)\n",
            "Requirement already satisfied: typing-extensions>=3.6.5 in /usr/local/lib/python3.7/dist-packages (from aiohttp==3.7.4->allensdk) (4.1.1)\n",
            "Requirement already satisfied: s3transfer<0.4.0,>=0.3.0 in /usr/local/lib/python3.7/dist-packages (from boto3==1.17.21->allensdk) (0.3.7)\n",
            "Requirement already satisfied: jmespath<1.0.0,>=0.7.1 in /usr/local/lib/python3.7/dist-packages (from boto3==1.17.21->allensdk) (0.10.0)\n",
            "Requirement already satisfied: botocore<1.21.0,>=1.20.21 in /usr/local/lib/python3.7/dist-packages (from boto3==1.17.21->allensdk) (1.20.112)\n",
            "Requirement already satisfied: setuptools in /usr/local/lib/python3.7/dist-packages (from glymur==0.8.19->allensdk) (57.4.0)\n",
            "Requirement already satisfied: pyyaml in /usr/local/lib/python3.7/dist-packages (from argschema<4.0.0,>=3.0.1->allensdk) (6.0)\n",
            "Requirement already satisfied: marshmallow<4.0,>=3.0.0 in /usr/local/lib/python3.7/dist-packages (from argschema<4.0.0,>=3.0.1->allensdk) (3.18.0)\n",
            "Requirement already satisfied: urllib3<1.27,>=1.25.4 in /usr/local/lib/python3.7/dist-packages (from botocore<1.21.0,>=1.20.21->boto3==1.17.21->allensdk) (1.25.11)\n",
            "Requirement already satisfied: python-dateutil<3.0.0,>=2.1 in /usr/local/lib/python3.7/dist-packages (from botocore<1.21.0,>=1.20.21->boto3==1.17.21->allensdk) (2.8.2)\n",
            "Requirement already satisfied: jsonschema<5,>=2.6.0 in /usr/local/lib/python3.7/dist-packages (from hdmf>=2.5.8->allensdk) (4.3.3)\n",
            "Requirement already satisfied: ruamel.yaml<1,>=0.16 in /usr/local/lib/python3.7/dist-packages (from hdmf>=2.5.8->allensdk) (0.17.21)\n",
            "Requirement already satisfied: cached-property in /usr/local/lib/python3.7/dist-packages (from h5py->allensdk) (1.5.2)\n",
            "Requirement already satisfied: MarkupSafe>=2.0 in /usr/local/lib/python3.7/dist-packages (from jinja2>=3.0.0->allensdk) (2.0.1)\n",
            "Requirement already satisfied: importlib-resources>=1.4.0 in /usr/local/lib/python3.7/dist-packages (from jsonschema<5,>=2.6.0->hdmf>=2.5.8->allensdk) (5.9.0)\n",
            "Requirement already satisfied: pyrsistent!=0.17.0,!=0.17.1,!=0.17.2,>=0.14.0 in /usr/local/lib/python3.7/dist-packages (from jsonschema<5,>=2.6.0->hdmf>=2.5.8->allensdk) (0.18.1)\n",
            "Requirement already satisfied: importlib-metadata in /usr/local/lib/python3.7/dist-packages (from jsonschema<5,>=2.6.0->hdmf>=2.5.8->allensdk) (5.0.0)\n",
            "Requirement already satisfied: zipp>=3.1.0 in /usr/local/lib/python3.7/dist-packages (from importlib-resources>=1.4.0->jsonschema<5,>=2.6.0->hdmf>=2.5.8->allensdk) (3.8.1)\n",
            "Requirement already satisfied: packaging>=17.0 in /usr/local/lib/python3.7/dist-packages (from marshmallow<4.0,>=3.0.0->argschema<4.0.0,>=3.0.1->allensdk) (21.3)\n",
            "Requirement already satisfied: cycler>=0.10 in /usr/local/lib/python3.7/dist-packages (from matplotlib<3.4.3,>=1.4.3->allensdk) (0.11.0)\n",
            "Requirement already satisfied: pyparsing!=2.0.4,!=2.1.2,!=2.1.6,>=2.0.1 in /usr/local/lib/python3.7/dist-packages (from matplotlib<3.4.3,>=1.4.3->allensdk) (3.0.9)\n",
            "Requirement already satisfied: kiwisolver>=1.0.1 in /usr/local/lib/python3.7/dist-packages (from matplotlib<3.4.3,>=1.4.3->allensdk) (1.4.4)\n",
            "Requirement already satisfied: pytz>=2017.3 in /usr/local/lib/python3.7/dist-packages (from pandas>=1.1.5->allensdk) (2022.4)\n",
            "Requirement already satisfied: certifi>=2017.4.17 in /usr/local/lib/python3.7/dist-packages (from requests<3.0.0->allensdk) (2022.9.24)\n",
            "Requirement already satisfied: idna<3,>=2.5 in /usr/local/lib/python3.7/dist-packages (from requests<3.0.0->allensdk) (2.10)\n",
            "Requirement already satisfied: ruamel.yaml.clib>=0.2.6 in /usr/local/lib/python3.7/dist-packages (from ruamel.yaml<1,>=0.16->hdmf>=2.5.8->allensdk) (0.2.6)\n",
            "Requirement already satisfied: wheel>=0.29.0 in /usr/local/lib/python3.7/dist-packages (from scikit-build<1.0.0->allensdk) (0.37.1)\n",
            "Requirement already satisfied: distro in /usr/local/lib/python3.7/dist-packages (from scikit-build<1.0.0->allensdk) (1.7.0)\n",
            "Requirement already satisfied: PyWavelets>=0.4.0 in /usr/local/lib/python3.7/dist-packages (from scikit-image<0.17.0,>=0.14.0->allensdk) (1.3.0)\n",
            "Requirement already satisfied: imageio>=2.3.0 in /usr/local/lib/python3.7/dist-packages (from scikit-image<0.17.0,>=0.14.0->allensdk) (2.9.0)\n",
            "Requirement already satisfied: pillow>=4.3.0 in /usr/local/lib/python3.7/dist-packages (from scikit-image<0.17.0,>=0.14.0->allensdk) (7.1.2)\n",
            "Requirement already satisfied: networkx>=2.0 in /usr/local/lib/python3.7/dist-packages (from scikit-image<0.17.0,>=0.14.0->allensdk) (2.6.3)\n",
            "Requirement already satisfied: patsy>=0.5 in /usr/local/lib/python3.7/dist-packages (from statsmodels<=0.13.0->allensdk) (0.5.2)\n",
            "Requirement already satisfied: numexpr>=2.6.2 in /usr/local/lib/python3.7/dist-packages (from tables<3.7.0,>=3.6.0->allensdk) (2.8.3)\n",
            "Requirement already satisfied: greenlet!=0.4.17 in /usr/local/lib/python3.7/dist-packages (from sqlalchemy->allensdk) (1.1.3)\n"
          ]
        }
      ]
    },
    {
      "cell_type": "code",
      "execution_count": 7,
      "metadata": {
        "id": "JYog83yh5TWZ"
      },
      "outputs": [],
      "source": [
        "from allensdk.core.mouse_connectivity_cache import MouseConnectivityCache\n",
        "from allensdk.core import structure_tree\n",
        "\n",
        "# The manifest file is a simple JSON file that keeps track of all of\n",
        "# the data that has already been downloaded onto the hard drives.\n",
        "# If you supply a relative path, it is assumed to be relative to your\n",
        "# current working directory.\n",
        "mcc = MouseConnectivityCache()\n",
        "source_acronym='SSp-tr6a'\n",
        "structure_tree = mcc.get_structure_tree()\n",
        "source = structure_tree.get_structures_by_acronym([source_acronym])[0]\n",
        "source_experiments = mcc.get_experiments(cre=True, \n",
        "                                       injection_structure_ids=[source['id']])"
      ]
    },
    {
      "cell_type": "code",
      "source": [
        "target_acronym='VISp6a'\n",
        "target = structure_tree.get_structures_by_acronym([target_acronym])[0]\n",
        "target_children = structure_tree.child_ids( [target['id']] )[0]"
      ],
      "metadata": {
        "id": "2LhYYgEO514o"
      },
      "execution_count": 8,
      "outputs": []
    },
    {
      "cell_type": "code",
      "source": [
        "target_children"
      ],
      "metadata": {
        "colab": {
          "base_uri": "https://localhost:8080/"
        },
        "id": "5YD1Bo-27OeT",
        "outputId": "ba2444f5-2cb3-4912-99e5-f7e507208571"
      },
      "execution_count": 9,
      "outputs": [
        {
          "output_type": "execute_result",
          "data": {
            "text/plain": [
              "[]"
            ]
          },
          "metadata": {},
          "execution_count": 9
        }
      ]
    },
    {
      "cell_type": "code",
      "source": [
        "source_experiment_ids = [ e['id'] for e in source_experiments ]\n",
        "try:\n",
        "  pm = mcc.get_projection_matrix(experiment_ids = source_experiment_ids, \n",
        "                                projection_structure_ids = target_children,\n",
        "                                hemisphere_ids= [2], # right hemisphere, ipsilateral\n",
        "                                parameter = 'projection_density')\n",
        "except:\n",
        "    print('target_children is empty!')"
      ],
      "metadata": {
        "colab": {
          "base_uri": "https://localhost:8080/"
        },
        "id": "k8Bbw5ra6uz_",
        "outputId": "27378e37-065c-458e-b847-a08d2ef01558"
      },
      "execution_count": 11,
      "outputs": [
        {
          "output_type": "stream",
          "name": "stdout",
          "text": [
            "target_children is empty!\n"
          ]
        }
      ]
    },
    {
      "cell_type": "markdown",
      "source": [
        "What are the hemisphere_ids (right hemisphere ipsilateral)?\n",
        "\n",
        "https://github.com/AllenInstitute/AllenSDK/blob/master/allensdk/core/mouse_connectivity_cache.py"
      ],
      "metadata": {
        "id": "NdXwovYv8Atr"
      }
    }
  ]
}